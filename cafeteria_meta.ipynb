{
 "cells": [
  {
   "cell_type": "code",
   "execution_count": null,
   "metadata": {},
   "outputs": [],
   "source": [
    "# https://www.metacareers.com/profile/coding_puzzles/?puzzle=203188678289677"
   ]
  },
  {
   "cell_type": "code",
   "execution_count": 2,
   "metadata": {},
   "outputs": [],
   "source": [
    "from typing import List\n",
    "def getMaxAdditionalDinersCount(N: int, K: int, M: int, S: List[int]) -> int:\n",
    "    \"\"\"You solved 29 / 32 test cases.\n",
    "    Runtime Error on 2 test cases\n",
    "    Time Limit Exceeded on 1 test case\"\"\"\n",
    "    s_d = {n:1 for n in S}\n",
    "    avail_seats=0\n",
    "    for i in range(1,N+1):\n",
    "        if not any([s_d.get(n) for n in range(i-K, i+K+1)]):\n",
    "            s_d[i]=1\n",
    "            avail_seats+=1\n",
    "    return(avail_seats)"
   ]
  },
  {
   "cell_type": "code",
   "execution_count": 41,
   "metadata": {},
   "outputs": [
    {
     "name": "stdout",
     "output_type": "stream",
     "text": [
      "a:1 , b:6, K:2,  dist: 0\n",
      "n:6\n",
      "avail_seats:0\n",
      "last_ix:1\n",
      "\n",
      "a:6 , b:11, K:2,  dist: 0\n",
      "n:11\n",
      "avail_seats:0\n",
      "last_ix:6\n",
      "\n",
      "a:11 , b:14, K:2,  dist: 0\n",
      "n:14\n",
      "avail_seats:0\n",
      "last_ix:11\n",
      "\n",
      "a:14 , b:15, K:2,  dist: 0\n",
      "n:15\n",
      "avail_seats:0\n",
      "last_ix:14\n",
      "\n",
      "0\n"
     ]
    }
   ],
   "source": [
    "# https://www.metacareers.com/profile/coding_puzzles/?puzzle=203188678289677\n",
    "# Write any import statements here\n",
    "from typing import List\n",
    "\n",
    "def getMaxAdditionalDinersCount(N: int, K: int, M: int, S: List[int]) -> int:\n",
    "    \"\"\"\n",
    "    hashdict incrementing over N approach\n",
    "\n",
    "    You solved 27 / 32 test cases.\n",
    "    Runtime Error on 3 test cases\n",
    "    Time Limit Exceeded on 2 test cases\n",
    "    \"\"\"\n",
    "    s_d = {n:1 for n in S}\n",
    "    avail_seats=0\n",
    "    for i in range(1,N+1):\n",
    "        window=[n for n in range(i-K, i+K+1)]\n",
    "        if not any([s_d.get(w) for w in window]):\n",
    "            s_d[i]=1\n",
    "            avail_seats+=1\n",
    "    return(avail_seats)\n",
    "\n",
    "\n",
    "def getMaxAdditionalDinersCount(N: int, K: int, M: int, S: List[int]) -> int:\n",
    "    ''' hashdict incrementing over N by K, implicit window\n",
    "    You solved 29 / 32 test cases.\n",
    "    Runtime Error on 2 test cases\n",
    "    Time Limit Exceeded on 1 test case'''\n",
    "    s_d = {n:1 for n in S}\n",
    "    avail_seats=0\n",
    "    for i in range(1,N+1):\n",
    "        if not any([s_d.get(n) for n in range(i-K, i+K+1)]):\n",
    "            s_d[i]=1\n",
    "            avail_seats+=1\n",
    "    return(avail_seats)\n",
    "\n",
    "\n",
    "def getMaxAdditionalDinersCount(N: int, K: int, M: int, S: List[int]) -> int:\n",
    "    \"\"\"\n",
    "    \"\"\"\n",
    "    S = sorted(S)\n",
    "    avail_seats=0\n",
    "    last_ix=1\n",
    "    def get_seats(a:int=None,b:int=None,K:int=None)->int:\n",
    "        dist= max([ (b-a)//(K+1)-1,\n",
    "                   0\n",
    "                   ])\n",
    "        print(f\"a:{a} , b:{b}, K:{K},  dist: {dist}\")\n",
    "        return(dist)\n",
    "    for n in S + [N]:\n",
    "        avail_seats+=get_seats(last_ix,n,K)\n",
    "        print(f\"n:{n}\\navail_seats:{avail_seats}\\nlast_ix:{last_ix}\\n\")\n",
    "        last_ix=n\n",
    "    return(avail_seats)\n",
    "\n",
    "'''\n",
    "k=1\n",
    "1 2 3 4 5 6\n",
    "  x       x\n",
    "\n",
    "\n",
    "k=2\n",
    "1 2 3 4 5 6 7 8\n",
    "x     1       x\n",
    "\n",
    "\n",
    "k=5\n",
    "1 2 3 4 5 6 7 8 9 0 1 2 3 4 5 6 7 8 9 0\n",
    "x           1           1             x\n",
    "\n",
    "\n",
    "\n",
    "N = 10\n",
    "K = 1\n",
    "M = 2\n",
    "S = [2, 6]\n",
    "\n",
    "       [   ]\n",
    " 0 1 2 3 4 5 6 7 8 9 10\n",
    "     x       x\n",
    "'''\n",
    "\n",
    "\n",
    "# N = 10\n",
    "# K = 1\n",
    "# M = 2\n",
    "# S = [2, 6]\n",
    "\n",
    "N = 15\n",
    "K = 2\n",
    "M = 3\n",
    "S = [11, 6, 14]\n",
    "\n",
    "'''\n",
    "1 2 3 4 5 6 7 8 9 0 1 2 3 4 5\n",
    "          x         x     x\n",
    "\n",
    "'''\n",
    "\n",
    "x=getMaxAdditionalDinersCount(N,K,M,S)\n",
    "\n",
    "print(x)"
   ]
  },
  {
   "cell_type": "code",
   "execution_count": 37,
   "metadata": {},
   "outputs": [
    {
     "data": {
      "text/plain": [
       "[1]"
      ]
     },
     "execution_count": 37,
     "metadata": {},
     "output_type": "execute_result"
    }
   ],
   "source": [
    "[i for i in range(1,5,7)]"
   ]
  },
  {
   "cell_type": "code",
   "execution_count": 40,
   "metadata": {},
   "outputs": [
    {
     "name": "stdout",
     "output_type": "stream",
     "text": [
      "a:2 , b:6, K:1,  dist: 1\n",
      "              expected: 1\n",
      "a:6 , b:11, K:2,  dist: 0\n",
      "              expected: 0\n",
      "a:1 , b:20, K:5,  dist: 2\n",
      "              expected: 2\n"
     ]
    }
   ],
   "source": [
    "def get_seats(a:int=None,b:int=None,K:int=None)->int:\n",
    "    form= (b-a)//(K+1)-1\n",
    "    # form= (b-1 - (a+1))// (K+1) \n",
    "    dist= max([form,0])\n",
    "    print(f\"a:{a} , b:{b}, K:{K},  dist: {dist}\")\n",
    "    return(max([0,dist]))\n",
    "##########################################\n",
    "\n",
    "\n",
    "\n",
    "\n",
    "cases=[\n",
    "    #a,b,k,ev\n",
    "    (2,6,1,1),\n",
    "    (6,11,2,0), # 6,7,8,9,0,1\n",
    "                # 1         1\n",
    "    (1,20,5,2)\n",
    "]\n",
    "\n",
    "vals=[]\n",
    "for c in cases:\n",
    "    vals.append((c, get_seats(c[0],c[1],c[2])))\n",
    "    print(f\"              expected: {c[3]}\")\n",
    "    # assert get_seats(c[0],c[1],c[2])==c[3], f\"case {c} failed\""
   ]
  },
  {
   "cell_type": "code",
   "execution_count": 35,
   "metadata": {},
   "outputs": [
    {
     "data": {
      "text/plain": [
       "'TIME COMPLEXITY'"
      ]
     },
     "execution_count": 35,
     "metadata": {},
     "output_type": "execute_result"
    }
   ],
   "source": [
    "from typing import List\n",
    "# Write any import statements here\n",
    "\n",
    "def getMaxAdditionalDinersCount(N: int, K: int, M: int, S: List[int]) -> int:\n",
    "    s_d = {n:n for n in S}\n",
    "    avail_seats=0\n",
    "    for i in range(1, N+1, K):\n",
    "        _ = [s_d.get(i1) for i1 in range(i-K, i+(K*2))]\n",
    "        print(f\"i:{i}, _ : {_}\")\n",
    "        if not any(_):\n",
    "            s_d[i]=i\n",
    "            avail_seats+=1\n",
    "        print(f\"i:{i} -- avail_seats:{avail_seats}\")\n",
    "    return(avail_seats)\n",
    "\n",
    "\"WRONG ANSWER FAILED 25 CASES\"\n",
    "\"TIME COMPLEXITY\""
   ]
  },
  {
   "cell_type": "code",
   "execution_count": 34,
   "metadata": {},
   "outputs": [],
   "source": [
    "from typing import List\n",
    "# Write any import statements here\n",
    "\n",
    "def getMaxAdditionalDinersCount(N: int, K: int, M: int, S: List[int]) -> int:\n",
    "    # S = sorted(S)\n",
    "    sd = {n:n for n in S}\n",
    "    # S_set=set(S)\n",
    "    # [S_set.add(n0) for n0 in [-1, N+1]]\n",
    "    avail_seats=0\n",
    "    last_ix = 1\n",
    "    for i in range(1,N+1,K):\n",
    "        if not any([sd.get(i1) for i1 in range(last_ix,i+K)]):\n",
    "            avail_seats+=1       \n",
    "        print(f\"i:{i}, avail_seats:{avail_seats}\")\n",
    "    return(avail_seats)"
   ]
  },
  {
   "cell_type": "code",
   "execution_count": null,
   "metadata": {},
   "outputs": [],
   "source": []
  },
  {
   "cell_type": "code",
   "execution_count": 35,
   "metadata": {},
   "outputs": [
    {
     "name": "stdout",
     "output_type": "stream",
     "text": [
      "i:1, avail_seats:1\n",
      "i:2, avail_seats:1\n",
      "i:3, avail_seats:1\n",
      "i:4, avail_seats:1\n",
      "i:5, avail_seats:1\n",
      "i:6, avail_seats:1\n",
      "i:7, avail_seats:1\n",
      "i:8, avail_seats:1\n",
      "i:9, avail_seats:1\n",
      "i:10, avail_seats:1\n",
      "x:1, E:3\n"
     ]
    }
   ],
   "source": [
    "N = 10\n",
    "K = 1\n",
    "M = 2\n",
    "S = [2, 6]\n",
    "E = 3\n",
    "x=getMaxAdditionalDinersCount(N,K,M,S)\n",
    "print(f\"x:{x}, E:{E}\")"
   ]
  },
  {
   "cell_type": "code",
   "execution_count": 6,
   "metadata": {},
   "outputs": [
    {
     "name": "stdout",
     "output_type": "stream",
     "text": [
      "i:1, _ : [None, None, None, None, None, None]\n",
      "i:1 -- avail_seats:1\n",
      "i:3, _ : [1, None, None, None, None, 6]\n",
      "i:3 -- avail_seats:1\n",
      "i:5, _ : [None, None, None, 6, None, None]\n",
      "i:5 -- avail_seats:1\n",
      "i:7, _ : [None, 6, None, None, None, None]\n",
      "i:7 -- avail_seats:1\n",
      "i:9, _ : [None, None, None, None, 11, None]\n",
      "i:9 -- avail_seats:1\n",
      "i:11, _ : [None, None, 11, None, None, 14]\n",
      "i:11 -- avail_seats:1\n",
      "i:13, _ : [11, None, None, 14, None, None]\n",
      "i:13 -- avail_seats:1\n",
      "i:15, _ : [None, 14, None, None, None, None]\n",
      "i:15 -- avail_seats:1\n",
      "x:1, E:1\n"
     ]
    }
   ],
   "source": [
    "N = 15\n",
    "K = 2\n",
    "M = 3\n",
    "S = [11, 6, 14]\n",
    "E = 1\n",
    "x=getMaxAdditionalDinersCount(N,K,M,S)\n",
    "print(f\"x:{x}, E:{E}\")"
   ]
  },
  {
   "cell_type": "code",
   "execution_count": 28,
   "metadata": {},
   "outputs": [
    {
     "name": "stdout",
     "output_type": "stream",
     "text": [
      "x:3, E:1\n"
     ]
    }
   ],
   "source": [
    "[]\n",
    "\n",
    "N = 15\n",
    "K = 2\n",
    "M = 3\n",
    "S = [11, 6, 14]\n",
    "E = 1\n",
    "x=getMaxAdditionalDinersCount(N,K,M,S)\n",
    "print(f\"x:{x}, E:{E}\")"
   ]
  },
  {
   "cell_type": "code",
   "execution_count": null,
   "metadata": {},
   "outputs": [],
   "source": []
  }
 ],
 "metadata": {
  "kernelspec": {
   "display_name": "Python 3.8.10 ('hhhb_venv_win')",
   "language": "python",
   "name": "python3"
  },
  "language_info": {
   "codemirror_mode": {
    "name": "ipython",
    "version": 3
   },
   "file_extension": ".py",
   "mimetype": "text/x-python",
   "name": "python",
   "nbconvert_exporter": "python",
   "pygments_lexer": "ipython3",
   "version": "3.8.10"
  },
  "orig_nbformat": 4,
  "vscode": {
   "interpreter": {
    "hash": "bb930cfed33480b59831dbd05559a9f44dfdec9e4749380c17fcb8534023418d"
   }
  }
 },
 "nbformat": 4,
 "nbformat_minor": 2
}
