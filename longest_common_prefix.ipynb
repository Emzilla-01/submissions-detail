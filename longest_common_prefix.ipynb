{
 "cells": [
  {
   "cell_type": "code",
   "execution_count": null,
   "metadata": {},
   "outputs": [],
   "source": [
    "def Jawn(l:list):\n",
    "    def __init__(self):\n",
    "        self.l=l\n",
    "        self.lowest_found = float('inf')\n",
    "        self.highest_ix=len(nums)-1\n",
    "        self.skip_ix = None\n",
    "    def walk(self):\n",
    "        pass\n",
    "    \n"
   ]
  },
  {
   "cell_type": "code",
   "execution_count": 30,
   "metadata": {},
   "outputs": [
    {
     "name": "stdout",
     "output_type": "stream",
     "text": [
      "got skip_ix:2 comparing 10 & 5\n",
      "restarting starting skip_ix:2\n",
      "got skip_ix:1 comparing 3 & 1\n",
      "restarting starting skip_ix:1\n",
      "got final skip_ix:1 comparing 2 & 1\n",
      "got skip_ix:2 comparing 11 & 9\n",
      "restarting starting skip_ix:2\n",
      "got skip_ix:0 comparing 9 & 1\n",
      "got skip_ix:1 comparing 1 & 1\n",
      "restarting starting skip_ix:1\n",
      "got final skip_ix:1 comparing 1 & 1\n",
      "True False True False False\n"
     ]
    }
   ],
   "source": [
    "from typing import List\n",
    "\"\"\" \n",
    "https://leetcode.com/problems/remove-one-element-to-make-the-array-strictly-increasing/submissions/\n",
    "\n",
    "\n",
    "step down the array\n",
    "at every ix after initial nums[-1]:\n",
    "    each number should decrease\n",
    "\n",
    "we get one chance for a number to not decrease, and can follow the same traversal\n",
    "\n",
    "but, if same decreasing logic fails twice, return False\n",
    "\n",
    "else return True\n",
    "\n",
    "\n",
    "\"\"\"\n",
    "class Solution:\n",
    "    # def init():\n",
    "        # self.lowest_found = float('max')\n",
    "        # self.highest_ix=len(nums)-1\n",
    "        # self.skip_ix = None\n",
    "    # def next():\n",
    "    def canBeIncreasing(self, nums: List[int]) -> bool:\n",
    "        lowest_found = float('inf')\n",
    "        highest_ix=len(nums)-1\n",
    "        skip_ix = None\n",
    "\n",
    "        for ix, val in list(enumerate(nums))[::-1]:\n",
    "            #Initial case\n",
    "            if ix==highest_ix:\n",
    "                last_val=val\n",
    "                lowest_found=min((val, lowest_found))\n",
    "                continue\n",
    "            # Each ix should be lower as we descend ix or walk left across list\n",
    "            # if val < last_val:\n",
    "                # isDecreasing=True\n",
    "            # set lowest_found\n",
    "            lowest_found=min((val, lowest_found))\n",
    "            if val != last_val:\n",
    "                if val == lowest_found:\n",
    "                    # good!\n",
    "                    continue\n",
    "            # implicit else:\n",
    "            skip_ix=ix\n",
    "            print(f\"got skip_ix:{skip_ix} comparing {val} & {lowest_found}\")\n",
    "            break        \n",
    "        if skip_ix==None:\n",
    "            return(True)\n",
    "        \n",
    "        if skip_ix:\n",
    "            print(f\"restarting starting skip_ix:{skip_ix}\")\n",
    "            #repeat same logic walking down list skipping the ix of violated order\n",
    "            for ix, val in list(enumerate(nums))[skip_ix-1::-1]:\n",
    "                lowest_found=min((val, lowest_found))\n",
    "                if val != last_val:\n",
    "                    if val == lowest_found:\n",
    "                        # good!\n",
    "                        continue                    \n",
    "                print(f\"got final skip_ix:{skip_ix} comparing {val} & {lowest_found}\")\n",
    "                return(False)\n",
    "            return(True)\n",
    "\n",
    "        return(False)\n",
    "\n",
    "c0=[1,2,10,5,7] # True\n",
    "c1=[2,3,1,2] # False\n",
    "c2=[1,5,11,9] # True\n",
    "c3=[9,1,2,3] # True\n",
    "c4=[1,1,1] # False\n",
    "\n",
    "a0,a1,a2,a3,a4 = [Solution().canBeIncreasing(c) for c in [c0,c1,c2,c3,c4]]\n",
    "\n",
    "# a0=Solution().canBeIncreasing(c0)\n",
    "# print(\"\\n\\n\")\n",
    "# a1=Solution().canBeIncreasing(c1)\n",
    "print(a0,a1,a2,a3,a4)"
   ]
  },
  {
   "cell_type": "code",
   "execution_count": 13,
   "metadata": {},
   "outputs": [
    {
     "name": "stdout",
     "output_type": "stream",
     "text": [
      "ix:4, val:7, chances:1, last_val:inf\n",
      "ix:3, val:5, chances:1, last_val:7\n",
      "got val 5 <= low_val 7, ix:3\n",
      "\n",
      "\n",
      "\n",
      "ix:3, val:2, chances:1, last_val:inf\n",
      "got val 2 <= low_val 2, ix:3\n",
      "False False\n"
     ]
    }
   ],
   "source": [
    "from typing import List\n",
    "\"\"\" \n",
    "https://leetcode.com/problems/remove-one-element-to-make-the-array-strictly-increasing/submissions/\n",
    "\n",
    "\"\"\"\n",
    "class Solution:\n",
    "    def canBeIncreasing(self, nums: List[int]) -> bool:\n",
    "        chances=1\n",
    "        last_val = float('inf')\n",
    "        low_val= min(nums[0:2])\n",
    "        for ix, val in list(enumerate(nums))[::-1]:\n",
    "            if chances<1:\n",
    "                return(False)\n",
    "            print(f\"ix:{ix}, val:{val}, chances:{chances}, last_val:{last_val}\")\n",
    "            \n",
    "            if val>=last_val:\n",
    "                print(f\"got val >= last_val, ix:{ix}, val:{val}\")\n",
    "                chances-=1\n",
    "                last_val=val\n",
    "                continue\n",
    "\n",
    "            if val<=low_val:\n",
    "                print(f\"got val {val} <= low_val {low_val}, ix:{ix}\")\n",
    "                chances -=1\n",
    "                last_val=val\n",
    "                low_val=val\n",
    "                continue\n",
    "            last_val=val\n",
    "            low_val=val\n",
    "\n",
    "        return(True)\n",
    "\n",
    "c0=[1,2,10,5,7] # True\n",
    "c1=[2,3,1,2] # False\n",
    "\n",
    "a0=Solution().canBeIncreasing(c0)\n",
    "print(\"\\n\\n\")\n",
    "a1=Solution().canBeIncreasing(c1)\n",
    "print(a0,a1)\n"
   ]
  },
  {
   "cell_type": "code",
   "execution_count": 35,
   "metadata": {},
   "outputs": [
    {
     "name": "stdout",
     "output_type": "stream",
     "text": [
      "ix:4, val:7, chances:1, last_val:inf, lowest_val:-inf\n",
      "ix:3, val:5, chances:1, last_val:7, lowest_val:-inf\n",
      "ix:2, val:10, chances:1, last_val:5, lowest_val:-inf\n",
      "ix:1, val:2, chances:0, last_val:10, lowest_val:-inf\n",
      "ix:0, val:1, chances:0, last_val:2, lowest_val:-inf\n",
      "\n",
      "\n",
      "\n",
      "ix:3, val:2, chances:1, last_val:inf, lowest_val:-inf\n",
      "ix:2, val:1, chances:1, last_val:2, lowest_val:-inf\n",
      "ix:1, val:3, chances:1, last_val:1, lowest_val:-inf\n",
      "ix:0, val:2, chances:0, last_val:3, lowest_val:-inf\n",
      "True True\n"
     ]
    }
   ],
   "source": []
  },
  {
   "cell_type": "code",
   "execution_count": 13,
   "metadata": {},
   "outputs": [
    {
     "name": "stdout",
     "output_type": "stream",
     "text": [
      "chi\n"
     ]
    }
   ],
   "source": [
    "#https://leetcode.com/problems/longest-common-prefix/\n",
    "\"\"\"\n",
    "Runtime: 46 ms, faster than 69.57% of Python3 online submissions for Longest Common Prefix.\n",
    "Memory Usage: 14 MB, less than 49.74% of Python3 online submissions for Longest Common Prefix.\n",
    "\"\"\"\n",
    "\n",
    "from typing import List\n",
    "class Solution:\n",
    "    def longestCommonPrefix(self, strs: List[str]) -> str:\n",
    "        i=0\n",
    "        common=''\n",
    "        arb_len=len(strs[-1])\n",
    "        while i<arb_len:\n",
    "            try:\n",
    "                arb_char=strs[-1][i] \n",
    "                for s in strs[:-1]:\n",
    "                    if s[i]!=arb_char:\n",
    "                        return(common)\n",
    "                common += arb_char\n",
    "                i+=1\n",
    "            except IndexError as e:\n",
    "                return(common)\n",
    "        return(common)\n",
    "\n",
    "\n",
    "\n",
    "c=[\"chickpea\", \"chickadee\", \"chicken\", \"chiraq\"]\n",
    "s=Solution()\n",
    "a=s.longestCommonPrefix(c)\n",
    "print(a)"
   ]
  },
  {
   "cell_type": "code",
   "execution_count": 14,
   "metadata": {},
   "outputs": [
    {
     "ename": "NameError",
     "evalue": "name 'xrange' is not defined",
     "output_type": "error",
     "traceback": [
      "\u001b[1;31m---------------------------------------------------------------------------\u001b[0m",
      "\u001b[1;31mNameError\u001b[0m                                 Traceback (most recent call last)",
      "\u001b[1;32mc:\\Users\\emmam\\OneDrive\\Desktop\\code\\leetcode\\solutions\\submissions-detail-729672772-\\longest_common_prefix.ipynb Cell 3\u001b[0m in \u001b[0;36m<cell line: 1>\u001b[1;34m()\u001b[0m\n\u001b[1;32m----> <a href='vscode-notebook-cell:/c%3A/Users/emmam/OneDrive/Desktop/code/leetcode/solutions/submissions-detail-729672772-/longest_common_prefix.ipynb#ch0000004?line=0'>1</a>\u001b[0m help(xrange)\n",
      "\u001b[1;31mNameError\u001b[0m: name 'xrange' is not defined"
     ]
    }
   ],
   "source": [
    "help(xrange)"
   ]
  },
  {
   "cell_type": "code",
   "execution_count": 11,
   "metadata": {},
   "outputs": [
    {
     "data": {
      "text/plain": [
       "''"
      ]
     },
     "execution_count": 11,
     "metadata": {},
     "output_type": "execute_result"
    }
   ],
   "source": [
    "a"
   ]
  },
  {
   "cell_type": "code",
   "execution_count": null,
   "metadata": {},
   "outputs": [],
   "source": []
  }
 ],
 "metadata": {
  "kernelspec": {
   "display_name": "Python 3.8.10 ('hhhb_venv_win')",
   "language": "python",
   "name": "python3"
  },
  "language_info": {
   "codemirror_mode": {
    "name": "ipython",
    "version": 3
   },
   "file_extension": ".py",
   "mimetype": "text/x-python",
   "name": "python",
   "nbconvert_exporter": "python",
   "pygments_lexer": "ipython3",
   "version": "3.8.10"
  },
  "orig_nbformat": 4,
  "vscode": {
   "interpreter": {
    "hash": "bb930cfed33480b59831dbd05559a9f44dfdec9e4749380c17fcb8534023418d"
   }
  }
 },
 "nbformat": 4,
 "nbformat_minor": 2
}
