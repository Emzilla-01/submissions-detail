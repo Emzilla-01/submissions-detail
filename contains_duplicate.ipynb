{
 "cells": [
  {
   "cell_type": "code",
   "execution_count": null,
   "metadata": {},
   "outputs": [],
   "source": [
    "\"\"\"\n",
    "\n",
    "Emy Kay original submission for https://leetcode.com/problems/contains-duplicate/submissions/\n",
    "\n",
    "dict version\n",
    "Runtime: 663 ms, faster than 39.49% of Python3 online submissions for Contains Duplicate.\n",
    "Memory Usage: 25.9 MB, less than 71.83% of Python3 online submissions for Contains Duplicate.\n",
    "\n",
    "\n",
    "set version\n",
    "\n",
    "Runtime: 510 ms, faster than 75.41% of Python3 online submissions for Contains Duplicate.\n",
    "Memory Usage: 26 MB, less than 71.83% of Python3 online submissions for Contains Duplicate.\n",
    "\"\"\"\n",
    "class Solution:\n",
    "    def containsDuplicate(self, nums: List[int]) -> bool:\n",
    "        # d_ = dict()\n",
    "        s_ = set()\n",
    "        for i in range(len(nums)):            \n",
    "            # if d_.get(nums[i]):\n",
    "            if nums[i] in s_:\n",
    "                return(True)\n",
    "            else:\n",
    "                s_.add(nums[i])\n",
    "                # d_[nums[i]]=1\n",
    "        return(False)"
   ]
  },
  {
   "cell_type": "code",
   "execution_count": null,
   "metadata": {},
   "outputs": [],
   "source": [
    "# https://leetcode.com/problems/contains-duplicate/discuss/2161789/Python-Solutions-O(nlogn)-and-O(n)\n",
    "\n",
    "class Solution:\n",
    "    def containsDuplicate(self, nums: List[int]) -> bool:\n",
    "        \"\"\"--------------- Solution 1 -------------- O(n) Time and O(n) Space\"\"\"\n",
    "        s = set()\n",
    "        for num in nums:\n",
    "            if num in s:\n",
    "                return True\n",
    "            s.add(num)\n",
    "        return False\n",
    "        \"\"\" --------------- Solution 2 -------------- O(nlogn) Time and O(1) space  \"\"\"\n",
    "        nums.sort()\n",
    "        for i in range(1,len(nums)):\n",
    "            if nums[i] == nums[i-1]:\n",
    "                return True\n",
    "        return False"
   ]
  },
  {
   "cell_type": "code",
   "execution_count": null,
   "metadata": {},
   "outputs": [],
   "source": [
    "class Solution:\n",
    "    def containsDuplicate(self, nums: List[int]) -> bool:\n",
    "        return len(nums) != len(set(nums))"
   ]
  }
 ],
 "metadata": {
  "kernelspec": {
   "display_name": "Python 3.8.10 ('hhhb_venv_win')",
   "language": "python",
   "name": "python3"
  },
  "language_info": {
   "name": "python",
   "version": "3.8.10"
  },
  "orig_nbformat": 4,
  "vscode": {
   "interpreter": {
    "hash": "bb930cfed33480b59831dbd05559a9f44dfdec9e4749380c17fcb8534023418d"
   }
  }
 },
 "nbformat": 4,
 "nbformat_minor": 2
}
