{
 "cells": [
  {
   "cell_type": "code",
   "execution_count": null,
   "metadata": {},
   "outputs": [],
   "source": [
    "\"\"\"\n",
    "\n",
    "Emy Kay original submission for https://leetcode.com/problems/contains-duplicate/submissions/\n",
    "\n",
    "dict version\n",
    "Runtime: 663 ms, faster than 39.49% of Python3 online submissions for Contains Duplicate.\n",
    "Memory Usage: 25.9 MB, less than 71.83% of Python3 online submissions for Contains Duplicate.\n",
    "\n",
    "\n",
    "set version\n",
    "\n",
    "Runtime: 510 ms, faster than 75.41% of Python3 online submissions for Contains Duplicate.\n",
    "Memory Usage: 26 MB, less than 71.83% of Python3 online submissions for Contains Duplicate.\n",
    "\"\"\"\n",
    "class Solution:\n",
    "    def containsDuplicate(self, nums: List[int]) -> bool:\n",
    "        # d_ = dict()\n",
    "        s_ = set()\n",
    "        for i in range(len(nums)):            \n",
    "            # if d_.get(nums[i]):\n",
    "            if nums[i] in s_:\n",
    "                return(True)\n",
    "            else:\n",
    "                s_.add(nums[i])\n",
    "                # d_[nums[i]]=1\n",
    "        return(False)"
   ]
  }
 ],
 "metadata": {
  "kernelspec": {
   "display_name": "Python 3.8.10 ('hhhb_venv_win')",
   "language": "python",
   "name": "python3"
  },
  "language_info": {
   "name": "python",
   "version": "3.8.10"
  },
  "orig_nbformat": 4,
  "vscode": {
   "interpreter": {
    "hash": "bb930cfed33480b59831dbd05559a9f44dfdec9e4749380c17fcb8534023418d"
   }
  }
 },
 "nbformat": 4,
 "nbformat_minor": 2
}
