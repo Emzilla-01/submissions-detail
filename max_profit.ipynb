{
 "cells": [
  {
   "cell_type": "code",
   "execution_count": null,
   "metadata": {},
   "outputs": [],
   "source": [
    "\"\"\"\"121. Best Time to Buy and Sell Stock.ipynb\"\n",
    "\n",
    "https://leetcode.com/problems/best-time-to-buy-and-sell-stock/\n",
    "\n",
    "You are given an array prices where prices[i] is the price of a given stock on the ith day.\n",
    "\n",
    "You want to maximize your profit by choosing a single day to buy one stock and choosing a different day in the future to sell that stock.\n",
    "\n",
    "Return the maximum profit you can achieve from this transaction. If you cannot achieve any profit, return 0.\n",
    "\n",
    "Example 1:\n",
    "\n",
    "Input: prices = [7,1,5,3,6,4]\n",
    "Output: 5\n",
    "Explanation: Buy on day 2 (price = 1) and sell on day 5 (price = 6), profit = 6-1 = 5.\n",
    "Note that buying on day 2 and selling on day 1 is not allowed because you must buy before you sell.\n",
    "Example 2:\n",
    "\n",
    "Input: prices = [7,6,4,3,1]\n",
    "Output: 0\n",
    "Explanation: In this case, no transactions are done and the max profit = 0.\n",
    " \n",
    "\n",
    "Constraints:\n",
    "\n",
    "1 <= prices.length <= 105\n",
    "0 <= prices[i] <= 104\n",
    "\"\"\""
   ]
  },
  {
   "cell_type": "code",
   "execution_count": 1,
   "metadata": {},
   "outputs": [],
   "source": [
    "from typing import List"
   ]
  },
  {
   "cell_type": "code",
   "execution_count": 5,
   "metadata": {},
   "outputs": [
    {
     "ename": "IndexError",
     "evalue": "list index out of range",
     "output_type": "error",
     "traceback": [
      "\u001b[1;31m---------------------------------------------------------------------------\u001b[0m",
      "\u001b[1;31mIndexError\u001b[0m                                Traceback (most recent call last)",
      "\u001b[1;32mc:\\Users\\emmam\\OneDrive\\Desktop\\code\\leetcode\\max_profit.ipynb Cell 3'\u001b[0m in \u001b[0;36m<cell line: 21>\u001b[1;34m()\u001b[0m\n\u001b[0;32m     <a href='vscode-notebook-cell:/c%3A/Users/emmam/OneDrive/Desktop/code/leetcode/max_profit.ipynb#ch0000000?line=16'>17</a>\u001b[0m c\u001b[39m=\u001b[39m[\u001b[39m7\u001b[39m,\u001b[39m1\u001b[39m,\u001b[39m5\u001b[39m,\u001b[39m3\u001b[39m,\u001b[39m6\u001b[39m,\u001b[39m4\u001b[39m]\n\u001b[0;32m     <a href='vscode-notebook-cell:/c%3A/Users/emmam/OneDrive/Desktop/code/leetcode/max_profit.ipynb#ch0000000?line=18'>19</a>\u001b[0m s\u001b[39m=\u001b[39mSolution()\n\u001b[0;32m     <a href='vscode-notebook-cell:/c%3A/Users/emmam/OneDrive/Desktop/code/leetcode/max_profit.ipynb#ch0000000?line=20'>21</a>\u001b[0m \u001b[39mprint\u001b[39m(\n\u001b[1;32m---> <a href='vscode-notebook-cell:/c%3A/Users/emmam/OneDrive/Desktop/code/leetcode/max_profit.ipynb#ch0000000?line=21'>22</a>\u001b[0m     s\u001b[39m.\u001b[39;49mmaxProfit(c)\n\u001b[0;32m     <a href='vscode-notebook-cell:/c%3A/Users/emmam/OneDrive/Desktop/code/leetcode/max_profit.ipynb#ch0000000?line=22'>23</a>\u001b[0m     )\n",
      "\u001b[1;32mc:\\Users\\emmam\\OneDrive\\Desktop\\code\\leetcode\\max_profit.ipynb Cell 3'\u001b[0m in \u001b[0;36mSolution.maxProfit\u001b[1;34m(self, prices)\u001b[0m\n\u001b[0;32m      <a href='vscode-notebook-cell:/c%3A/Users/emmam/OneDrive/Desktop/code/leetcode/max_profit.ipynb#ch0000000?line=1'>2</a>\u001b[0m \u001b[39mdef\u001b[39;00m \u001b[39mmaxProfit\u001b[39m(\u001b[39mself\u001b[39m, prices: List[\u001b[39mint\u001b[39m]) \u001b[39m-\u001b[39m\u001b[39m>\u001b[39m \u001b[39mint\u001b[39m:\n\u001b[0;32m      <a href='vscode-notebook-cell:/c%3A/Users/emmam/OneDrive/Desktop/code/leetcode/max_profit.ipynb#ch0000000?line=2'>3</a>\u001b[0m     \u001b[39m# sliding window\u001b[39;00m\n\u001b[0;32m      <a href='vscode-notebook-cell:/c%3A/Users/emmam/OneDrive/Desktop/code/leetcode/max_profit.ipynb#ch0000000?line=3'>4</a>\u001b[0m     \u001b[39m# min_\u001b[39;00m\n\u001b[0;32m      <a href='vscode-notebook-cell:/c%3A/Users/emmam/OneDrive/Desktop/code/leetcode/max_profit.ipynb#ch0000000?line=4'>5</a>\u001b[0m     \u001b[39m# for i in range(len(prices)):\u001b[39;00m\n\u001b[0;32m      <a href='vscode-notebook-cell:/c%3A/Users/emmam/OneDrive/Desktop/code/leetcode/max_profit.ipynb#ch0000000?line=5'>6</a>\u001b[0m     \u001b[39m# we want to iterate once or twice, not n times!!!\u001b[39;00m\n\u001b[1;32m----> <a href='vscode-notebook-cell:/c%3A/Users/emmam/OneDrive/Desktop/code/leetcode/max_profit.ipynb#ch0000000?line=6'>7</a>\u001b[0m     d \u001b[39m=\u001b[39m {i: \u001b[39mmax\u001b[39m(\n\u001b[0;32m      <a href='vscode-notebook-cell:/c%3A/Users/emmam/OneDrive/Desktop/code/leetcode/max_profit.ipynb#ch0000000?line=7'>8</a>\u001b[0m                 [prices[i]\u001b[39m-\u001b[39mprices[p] \u001b[39mfor\u001b[39;00m p \u001b[39min\u001b[39;00m prices[i:]]\n\u001b[0;32m      <a href='vscode-notebook-cell:/c%3A/Users/emmam/OneDrive/Desktop/code/leetcode/max_profit.ipynb#ch0000000?line=8'>9</a>\u001b[0m                 )\n\u001b[0;32m     <a href='vscode-notebook-cell:/c%3A/Users/emmam/OneDrive/Desktop/code/leetcode/max_profit.ipynb#ch0000000?line=9'>10</a>\u001b[0m                 \u001b[39mfor\u001b[39;00m i \u001b[39min\u001b[39;00m \u001b[39mrange\u001b[39m(\u001b[39mlen\u001b[39m(prices))}\n\u001b[0;32m     <a href='vscode-notebook-cell:/c%3A/Users/emmam/OneDrive/Desktop/code/leetcode/max_profit.ipynb#ch0000000?line=10'>11</a>\u001b[0m     g \u001b[39m=\u001b[39m \u001b[39mmax\u001b[39m(d\u001b[39m.\u001b[39mvalues())\n\u001b[0;32m     <a href='vscode-notebook-cell:/c%3A/Users/emmam/OneDrive/Desktop/code/leetcode/max_profit.ipynb#ch0000000?line=11'>12</a>\u001b[0m     \u001b[39mreturn\u001b[39;00m(g)\n",
      "\u001b[1;32mc:\\Users\\emmam\\OneDrive\\Desktop\\code\\leetcode\\max_profit.ipynb Cell 3'\u001b[0m in \u001b[0;36m<dictcomp>\u001b[1;34m(.0)\u001b[0m\n\u001b[0;32m      <a href='vscode-notebook-cell:/c%3A/Users/emmam/OneDrive/Desktop/code/leetcode/max_profit.ipynb#ch0000000?line=1'>2</a>\u001b[0m \u001b[39mdef\u001b[39;00m \u001b[39mmaxProfit\u001b[39m(\u001b[39mself\u001b[39m, prices: List[\u001b[39mint\u001b[39m]) \u001b[39m-\u001b[39m\u001b[39m>\u001b[39m \u001b[39mint\u001b[39m:\n\u001b[0;32m      <a href='vscode-notebook-cell:/c%3A/Users/emmam/OneDrive/Desktop/code/leetcode/max_profit.ipynb#ch0000000?line=2'>3</a>\u001b[0m     \u001b[39m# sliding window\u001b[39;00m\n\u001b[0;32m      <a href='vscode-notebook-cell:/c%3A/Users/emmam/OneDrive/Desktop/code/leetcode/max_profit.ipynb#ch0000000?line=3'>4</a>\u001b[0m     \u001b[39m# min_\u001b[39;00m\n\u001b[0;32m      <a href='vscode-notebook-cell:/c%3A/Users/emmam/OneDrive/Desktop/code/leetcode/max_profit.ipynb#ch0000000?line=4'>5</a>\u001b[0m     \u001b[39m# for i in range(len(prices)):\u001b[39;00m\n\u001b[0;32m      <a href='vscode-notebook-cell:/c%3A/Users/emmam/OneDrive/Desktop/code/leetcode/max_profit.ipynb#ch0000000?line=5'>6</a>\u001b[0m     \u001b[39m# we want to iterate once or twice, not n times!!!\u001b[39;00m\n\u001b[0;32m      <a href='vscode-notebook-cell:/c%3A/Users/emmam/OneDrive/Desktop/code/leetcode/max_profit.ipynb#ch0000000?line=6'>7</a>\u001b[0m     d \u001b[39m=\u001b[39m {i: \u001b[39mmax\u001b[39m(\n\u001b[1;32m----> <a href='vscode-notebook-cell:/c%3A/Users/emmam/OneDrive/Desktop/code/leetcode/max_profit.ipynb#ch0000000?line=7'>8</a>\u001b[0m                 [prices[i]\u001b[39m-\u001b[39mprices[p] \u001b[39mfor\u001b[39;00m p \u001b[39min\u001b[39;00m prices[i:]]\n\u001b[0;32m      <a href='vscode-notebook-cell:/c%3A/Users/emmam/OneDrive/Desktop/code/leetcode/max_profit.ipynb#ch0000000?line=8'>9</a>\u001b[0m                 )\n\u001b[0;32m     <a href='vscode-notebook-cell:/c%3A/Users/emmam/OneDrive/Desktop/code/leetcode/max_profit.ipynb#ch0000000?line=9'>10</a>\u001b[0m                 \u001b[39mfor\u001b[39;00m i \u001b[39min\u001b[39;00m \u001b[39mrange\u001b[39m(\u001b[39mlen\u001b[39m(prices))}\n\u001b[0;32m     <a href='vscode-notebook-cell:/c%3A/Users/emmam/OneDrive/Desktop/code/leetcode/max_profit.ipynb#ch0000000?line=10'>11</a>\u001b[0m     g \u001b[39m=\u001b[39m \u001b[39mmax\u001b[39m(d\u001b[39m.\u001b[39mvalues())\n\u001b[0;32m     <a href='vscode-notebook-cell:/c%3A/Users/emmam/OneDrive/Desktop/code/leetcode/max_profit.ipynb#ch0000000?line=11'>12</a>\u001b[0m     \u001b[39mreturn\u001b[39;00m(g)\n",
      "\u001b[1;32mc:\\Users\\emmam\\OneDrive\\Desktop\\code\\leetcode\\max_profit.ipynb Cell 3'\u001b[0m in \u001b[0;36m<listcomp>\u001b[1;34m(.0)\u001b[0m\n\u001b[0;32m      <a href='vscode-notebook-cell:/c%3A/Users/emmam/OneDrive/Desktop/code/leetcode/max_profit.ipynb#ch0000000?line=1'>2</a>\u001b[0m \u001b[39mdef\u001b[39;00m \u001b[39mmaxProfit\u001b[39m(\u001b[39mself\u001b[39m, prices: List[\u001b[39mint\u001b[39m]) \u001b[39m-\u001b[39m\u001b[39m>\u001b[39m \u001b[39mint\u001b[39m:\n\u001b[0;32m      <a href='vscode-notebook-cell:/c%3A/Users/emmam/OneDrive/Desktop/code/leetcode/max_profit.ipynb#ch0000000?line=2'>3</a>\u001b[0m     \u001b[39m# sliding window\u001b[39;00m\n\u001b[0;32m      <a href='vscode-notebook-cell:/c%3A/Users/emmam/OneDrive/Desktop/code/leetcode/max_profit.ipynb#ch0000000?line=3'>4</a>\u001b[0m     \u001b[39m# min_\u001b[39;00m\n\u001b[0;32m      <a href='vscode-notebook-cell:/c%3A/Users/emmam/OneDrive/Desktop/code/leetcode/max_profit.ipynb#ch0000000?line=4'>5</a>\u001b[0m     \u001b[39m# for i in range(len(prices)):\u001b[39;00m\n\u001b[0;32m      <a href='vscode-notebook-cell:/c%3A/Users/emmam/OneDrive/Desktop/code/leetcode/max_profit.ipynb#ch0000000?line=5'>6</a>\u001b[0m     \u001b[39m# we want to iterate once or twice, not n times!!!\u001b[39;00m\n\u001b[0;32m      <a href='vscode-notebook-cell:/c%3A/Users/emmam/OneDrive/Desktop/code/leetcode/max_profit.ipynb#ch0000000?line=6'>7</a>\u001b[0m     d \u001b[39m=\u001b[39m {i: \u001b[39mmax\u001b[39m(\n\u001b[1;32m----> <a href='vscode-notebook-cell:/c%3A/Users/emmam/OneDrive/Desktop/code/leetcode/max_profit.ipynb#ch0000000?line=7'>8</a>\u001b[0m                 [prices[i]\u001b[39m-\u001b[39mprices[p] \u001b[39mfor\u001b[39;00m p \u001b[39min\u001b[39;00m prices[i:]]\n\u001b[0;32m      <a href='vscode-notebook-cell:/c%3A/Users/emmam/OneDrive/Desktop/code/leetcode/max_profit.ipynb#ch0000000?line=8'>9</a>\u001b[0m                 )\n\u001b[0;32m     <a href='vscode-notebook-cell:/c%3A/Users/emmam/OneDrive/Desktop/code/leetcode/max_profit.ipynb#ch0000000?line=9'>10</a>\u001b[0m                 \u001b[39mfor\u001b[39;00m i \u001b[39min\u001b[39;00m \u001b[39mrange\u001b[39m(\u001b[39mlen\u001b[39m(prices))}\n\u001b[0;32m     <a href='vscode-notebook-cell:/c%3A/Users/emmam/OneDrive/Desktop/code/leetcode/max_profit.ipynb#ch0000000?line=10'>11</a>\u001b[0m     g \u001b[39m=\u001b[39m \u001b[39mmax\u001b[39m(d\u001b[39m.\u001b[39mvalues())\n\u001b[0;32m     <a href='vscode-notebook-cell:/c%3A/Users/emmam/OneDrive/Desktop/code/leetcode/max_profit.ipynb#ch0000000?line=11'>12</a>\u001b[0m     \u001b[39mreturn\u001b[39;00m(g)\n",
      "\u001b[1;31mIndexError\u001b[0m: list index out of range"
     ]
    }
   ],
   "source": [
    "class Solution:\n",
    "    def maxProfit(self, prices: List[int]) -> int:\n",
    "        # sliding window\n",
    "        \n",
    "        # we want to iterate once or twice, not n times!!!\n",
    "        for i in range(len(prices)):\n",
    "\n",
    "\n",
    "        \n",
    "        return(g)                       \n",
    "            # it is a low day, buy\n",
    "            # it is a high day, sell\n",
    "\n",
    "\n",
    "c=[7,1,5,3,6,4]\n",
    "\n",
    "s=Solution()\n",
    "\n",
    "print(\n",
    "    s.maxProfit(c)\n",
    "    )"
   ]
  },
  {
   "cell_type": "code",
   "execution_count": null,
   "metadata": {},
   "outputs": [],
   "source": [
    "class Solution:\n",
    "    def maxProfit(self, prices: List[int]) -> int:\n",
    "        \n",
    "        # we want to iterate once or twice, not n times\n",
    "        low_day=0\n",
    "        val=0\n",
    "        for i in range(len(prices)):\n",
    "            # day's gain\n",
    "            \n",
    "            dg = prices[i] - prices[low_day]\n",
    "            if dg>val:\n",
    "                val=dg\n",
    "                low_day=i\n",
    "            \n",
    "                       \n",
    "            # it is a low day, buy\n",
    "            # it is a high day, sell"
   ]
  },
  {
   "cell_type": "code",
   "execution_count": 3,
   "metadata": {},
   "outputs": [
    {
     "data": {
      "text/plain": [
       "0"
      ]
     },
     "execution_count": 3,
     "metadata": {},
     "output_type": "execute_result"
    }
   ],
   "source": [
    "c=[7,1,5,3,6,4]\n",
    "\n",
    "s=Solution()\n",
    "\n",
    "print(\n",
    "    s.maxProfit(c)\n",
    "    )"
   ]
  },
  {
   "cell_type": "code",
   "execution_count": 4,
   "metadata": {},
   "outputs": [
    {
     "name": "stdout",
     "output_type": "stream",
     "text": [
      "0\n"
     ]
    }
   ],
   "source": [
    "# leetcode solution\n",
    "\n",
    "class Solution:\n",
    "    def maxProfit(self, prices: List[int]) -> int:\n",
    "        \n",
    "        min_price = float('inf') # this is what I was stuck on in my first attempt... how to create a max value... next time just use max val from constraint, or sort the list\n",
    "\n",
    "        max_profit = 0\n",
    "\n",
    "        for i in range(len(prices)):\n",
    "\n",
    "            if prices[i] < min_price:\n",
    "\n",
    "                min_price = prices[i]\n",
    "\n",
    "            elif prices[i] - min_price > max_profit: # elif higher profit!\n",
    "                \n",
    "                max_profit = prices[i] - min_price\n",
    "                \n",
    "        return max_profit"
   ]
  },
  {
   "cell_type": "code",
   "execution_count": 6,
   "metadata": {},
   "outputs": [
    {
     "name": "stdout",
     "output_type": "stream",
     "text": [
      "Help on built-in function reduce in module _functools:\n",
      "\n",
      "reduce(...)\n",
      "    reduce(function, sequence[, initial]) -> value\n",
      "    \n",
      "    Apply a function of two arguments cumulatively to the items of a sequence,\n",
      "    from left to right, so as to reduce the sequence to a single value.\n",
      "    For example, reduce(lambda x, y: x+y, [1, 2, 3, 4, 5]) calculates\n",
      "    ((((1+2)+3)+4)+5).  If initial is present, it is placed before the items\n",
      "    of the sequence in the calculation, and serves as a default when the\n",
      "    sequence is empty.\n",
      "\n"
     ]
    }
   ],
   "source": [
    "from functools import reduce\n",
    "help(reduce)"
   ]
  },
  {
   "cell_type": "code",
   "execution_count": 8,
   "metadata": {},
   "outputs": [
    {
     "name": "stdout",
     "output_type": "stream",
     "text": [
      "i:0\n",
      "i:1\n",
      "i:2\n",
      "i:3\n",
      "i:4\n",
      "i:5\n",
      "i:6\n",
      "[1, 4, 20, 20, 160, 320, 3200]\n",
      "first r: ['', '', '', '', '', '', '']\n",
      "i1:6\n",
      "1\n",
      "i1:5\n",
      "6\n",
      "i1:4\n",
      "60\n",
      "i1:3\n",
      "120\n",
      "i1:2\n",
      "960\n",
      "i1:1\n",
      "960\n",
      "i1:0\n",
      "4800\n",
      "[4800, 960, 960, 120, 60, 6, 1]\n"
     ]
    },
    {
     "data": {
      "text/plain": [
       "[4800, 3840, 19200, 2400, 9600, 1920, 3200]"
      ]
     },
     "execution_count": 8,
     "metadata": {},
     "output_type": "execute_result"
    }
   ],
   "source": [
    "c1=[4,5,1,8,2,10,6]\n",
    "# a1=[1,4,20,20,160]\n",
    "from typing import List\n",
    "\n",
    "# from functools import reduce\n",
    "\n",
    "class Solution:\n",
    "    def productExceptSelf(self, nums: List[int]) -> List[int]:\n",
    "\n",
    "        l=list()\n",
    "        for i in range(len(nums)):\n",
    "            if i==0:\n",
    "                l.append(1)\n",
    "            else:\n",
    "                val=nums[i-1]*l[i-1]\n",
    "                l.append(val)\n",
    "        r = ['' for foo in range(len(nums))]\n",
    "        for i1 in range(len(nums)-1,-1,-1):\n",
    "            if i1 == len(nums)-1:\n",
    "                var=1\n",
    "            else:\n",
    "                var = (nums[i1+1]*r[i1+1])\n",
    "            r[i1]= var\n",
    "        a = [ l[i2]*r[i2] for i2 in range(len(r))]\n",
    "        return(a)\n",
    "\n",
    "\n",
    "s=Solution()\n",
    "s.productExceptSelf(c1)"
   ]
  },
  {
   "cell_type": "code",
   "execution_count": 36,
   "metadata": {},
   "outputs": [
    {
     "name": "stdout",
     "output_type": "stream",
     "text": [
      "[1, 4, 20, 20, 160, 320, 3200]\n"
     ]
    },
    {
     "ename": "IndexError",
     "evalue": "list index out of range",
     "output_type": "error",
     "traceback": [
      "\u001b[1;31m---------------------------------------------------------------------------\u001b[0m",
      "\u001b[1;31mIndexError\u001b[0m                                Traceback (most recent call last)",
      "\u001b[1;32mc:\\Users\\emmam\\OneDrive\\Desktop\\code\\leetcode\\max_profit.ipynb Cell 9'\u001b[0m in \u001b[0;36m<cell line: 1>\u001b[1;34m()\u001b[0m\n\u001b[1;32m----> <a href='vscode-notebook-cell:/c%3A/Users/emmam/OneDrive/Desktop/code/leetcode/max_profit.ipynb#ch0000008?line=0'>1</a>\u001b[0m s\u001b[39m.\u001b[39;49mproductExceptSelf(c1)\n",
      "\u001b[1;32mc:\\Users\\emmam\\OneDrive\\Desktop\\code\\leetcode\\max_profit.ipynb Cell 8'\u001b[0m in \u001b[0;36mSolution.productExceptSelf\u001b[1;34m(self, nums)\u001b[0m\n\u001b[0;32m     <a href='vscode-notebook-cell:/c%3A/Users/emmam/OneDrive/Desktop/code/leetcode/max_profit.ipynb#ch0000007?line=18'>19</a>\u001b[0m         r\u001b[39m.\u001b[39minsert(\u001b[39m0\u001b[39m, \u001b[39m1\u001b[39m)\n\u001b[0;32m     <a href='vscode-notebook-cell:/c%3A/Users/emmam/OneDrive/Desktop/code/leetcode/max_profit.ipynb#ch0000007?line=19'>20</a>\u001b[0m     \u001b[39melse\u001b[39;00m:\n\u001b[1;32m---> <a href='vscode-notebook-cell:/c%3A/Users/emmam/OneDrive/Desktop/code/leetcode/max_profit.ipynb#ch0000007?line=20'>21</a>\u001b[0m         var \u001b[39m=\u001b[39m nums[i]\u001b[39m*\u001b[39mr[i\u001b[39m+\u001b[39;49m\u001b[39m1\u001b[39;49m]\n\u001b[0;32m     <a href='vscode-notebook-cell:/c%3A/Users/emmam/OneDrive/Desktop/code/leetcode/max_profit.ipynb#ch0000007?line=21'>22</a>\u001b[0m         r\u001b[39m.\u001b[39minsert(\u001b[39m0\u001b[39m,var)\n\u001b[0;32m     <a href='vscode-notebook-cell:/c%3A/Users/emmam/OneDrive/Desktop/code/leetcode/max_profit.ipynb#ch0000007?line=22'>23</a>\u001b[0m \u001b[39mprint\u001b[39m(r)\n",
      "\u001b[1;31mIndexError\u001b[0m: list index out of range"
     ]
    }
   ],
   "source": [
    "s.productExceptSelf(c1)"
   ]
  },
  {
   "cell_type": "code",
   "execution_count": 7,
   "metadata": {},
   "outputs": [
    {
     "data": {
      "text/plain": [
       "[(3, 4), (2, 3), (1, 2), (0, 1)]"
      ]
     },
     "execution_count": 7,
     "metadata": {},
     "output_type": "execute_result"
    }
   ],
   "source": [
    "x=[1,2,3,4]\n",
    "[(i, x[i]) for i in range(len(x)-1,-1,-1)]\n"
   ]
  }
 ],
 "metadata": {
  "kernelspec": {
   "display_name": "Python 3.8.10 ('hhhb_venv_win')",
   "language": "python",
   "name": "python3"
  },
  "language_info": {
   "codemirror_mode": {
    "name": "ipython",
    "version": 3
   },
   "file_extension": ".py",
   "mimetype": "text/x-python",
   "name": "python",
   "nbconvert_exporter": "python",
   "pygments_lexer": "ipython3",
   "version": "3.8.10"
  },
  "orig_nbformat": 4,
  "vscode": {
   "interpreter": {
    "hash": "bb930cfed33480b59831dbd05559a9f44dfdec9e4749380c17fcb8534023418d"
   }
  }
 },
 "nbformat": 4,
 "nbformat_minor": 2
}
