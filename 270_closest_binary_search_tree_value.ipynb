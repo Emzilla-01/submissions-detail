{
 "cells": [
  {
   "cell_type": "code",
   "execution_count": null,
   "metadata": {},
   "outputs": [],
   "source": [
    "\"\"\"\n",
    "Runtime: 54 ms, faster than 66.03% of Python3 online submissions for Closest Binary Search Tree Value.\n",
    "Memory Usage: 16.1 MB, less than 31.64% of Python3 online submissions for Closest Binary Search Tree Value.\n",
    "\"\"\"\n",
    "class Solution:\n",
    "    def traverse_and_store(self, node: Optional[TreeNode], target:float)->dict:\n",
    "        if node != None:\n",
    "            diff=abs(node.val-target)\n",
    "            if self.min[1]>diff:\n",
    "                self.min=(node.val, diff)\n",
    "            self.traverse_and_store(node.left, target), self.traverse_and_store(node.right, target)\n",
    "            \n",
    "    def closestValue(self, root: Optional[TreeNode], target: float) -> int:\n",
    "        self.min=(None, float(\"inf\"))\n",
    "        self.traverse_and_store(root, target)\n",
    "        return(self.min[0])\n"
   ]
  },
  {
   "cell_type": "code",
   "execution_count": null,
   "metadata": {},
   "outputs": [],
   "source": [
    "# Definition for a binary tree node.\n",
    "# class TreeNode:\n",
    "#     def __init__(self, val=0, left=None, right=None):\n",
    "#         self.val = val\n",
    "#         self.left = left\n",
    "#         self.right = right\n",
    "\n",
    "\"\"\"\n",
    "Runtime: 78 ms, faster than 17.49% of Python3 online submissions for Closest Binary Search Tree Value.\n",
    "Memory Usage: 17.2 MB, less than 31.64% of Python3 online submissions for Closest Binary Search Tree Value.\n",
    "\"\"\"\n",
    "\n",
    "class Solution:\n",
    "    def traverse_and_store(self, node: Optional[TreeNode], target:float)->dict:\n",
    "        if node != None:\n",
    "            self.d[node.val]=abs(node.val-target)\n",
    "            self.traverse_and_store(node.left, target), self.traverse_and_store(node.right, target)\n",
    "    def closestValue(self, root: Optional[TreeNode], target: float) -> int:\n",
    "        self.d=dict()\n",
    "        self.traverse_and_store(root, target)\n",
    "        itms=sorted(self.d.items(), key=lambda t: t[1], reverse=0)\n",
    "        return(itms[0][0])\n"
   ]
  },
  {
   "cell_type": "code",
   "execution_count": null,
   "metadata": {},
   "outputs": [],
   "source": []
  }
 ],
 "metadata": {
  "kernelspec": {
   "display_name": "Python 3.8.10 ('hhhb_venv_win')",
   "language": "python",
   "name": "python3"
  },
  "language_info": {
   "name": "python",
   "version": "3.8.10"
  },
  "orig_nbformat": 4,
  "vscode": {
   "interpreter": {
    "hash": "bb930cfed33480b59831dbd05559a9f44dfdec9e4749380c17fcb8534023418d"
   }
  }
 },
 "nbformat": 4,
 "nbformat_minor": 2
}
