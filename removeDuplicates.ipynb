{
 "cells": [
  {
   "cell_type": "code",
   "execution_count": 33,
   "metadata": {},
   "outputs": [],
   "source": [
    "\"\"\"Runtime: 132 ms, faster than 61.42% of Python3 online submissions for Remove Duplicates from Sorted Array.\n",
    "Memory Usage: 15.6 MB, less than 16.09% of Python3 online submissions for Remove Duplicates from Sorted Array.\"\"\"\n",
    "from typing import List\n",
    "class Solution:\n",
    "    def removeDuplicates(self, nums: List[int]) -> int:\n",
    "        L = 0\n",
    "        last_nondupe_ix=0\n",
    "        dupe_flag=0\n",
    "        last_dupe_val=None\n",
    "        for i in range(len(nums)):\n",
    "            if i==0:\n",
    "                continue\n",
    "            if nums[L]==nums[i]:\n",
    "                dupe_flag=1\n",
    "                continue\n",
    "            else:\n",
    "                if dupe_flag:\n",
    "                    nums[L+1]=nums[i]\n",
    "                last_nondupe_ix=L\n",
    "                L+=1\n",
    "            # print(f\"L: {L} , i: {i} , n: {nums[i]}, lni : {last_nondupe_ix}\")\n",
    "        return(L+1)\n",
    "s=Solution()"
   ]
  },
  {
   "cell_type": "code",
   "execution_count": 34,
   "metadata": {},
   "outputs": [
    {
     "name": "stdout",
     "output_type": "stream",
     "text": [
      "L: 1 , i: 1 , n: 2, lni : 0, dc:0\n",
      "L: 2 , i: 4 , n: 3, lni : 1, dc:2\n",
      "L: 3 , i: 5 , n: 4, lni : 2, dc:2\n",
      "L: 4 , i: 6 , n: 5, lni : 3, dc:2\n",
      "5\n"
     ]
    }
   ],
   "source": [
    "print(s.removeDuplicates([1,2,2,2,3,4,5,5]))"
   ]
  },
  {
   "cell_type": "code",
   "execution_count": 35,
   "metadata": {},
   "outputs": [
    {
     "name": "stdout",
     "output_type": "stream",
     "text": [
      "L: 1 , i: 2 , n: 1, lni : 0, dc:1\n",
      "L: 2 , i: 5 , n: 2, lni : 1, dc:3\n",
      "L: 3 , i: 7 , n: 3, lni : 2, dc:4\n",
      "L: 4 , i: 9 , n: 4, lni : 3, dc:5\n",
      "5\n"
     ]
    }
   ],
   "source": [
    "l=[0,0,1,1,1,2,2,3,3,4]\n",
    "print(s.removeDuplicates(l))\n"
   ]
  },
  {
   "cell_type": "markdown",
   "metadata": {},
   "source": []
  }
 ],
 "metadata": {
  "kernelspec": {
   "display_name": "Python 3.8.10 ('hhhb_venv_win')",
   "language": "python",
   "name": "python3"
  },
  "language_info": {
   "codemirror_mode": {
    "name": "ipython",
    "version": 3
   },
   "file_extension": ".py",
   "mimetype": "text/x-python",
   "name": "python",
   "nbconvert_exporter": "python",
   "pygments_lexer": "ipython3",
   "version": "3.8.10"
  },
  "orig_nbformat": 4,
  "vscode": {
   "interpreter": {
    "hash": "bb930cfed33480b59831dbd05559a9f44dfdec9e4749380c17fcb8534023418d"
   }
  }
 },
 "nbformat": 4,
 "nbformat_minor": 2
}
