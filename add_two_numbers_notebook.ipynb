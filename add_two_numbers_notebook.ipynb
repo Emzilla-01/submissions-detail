{
 "cells": [
  {
   "cell_type": "code",
   "execution_count": null,
   "metadata": {},
   "outputs": [],
   "source": [
    "\"\"\"\n",
    "seems most efficient method would be \n",
    "\n",
    "to create the outermost to innermost product\n",
    "\n",
    "while iterating across both linked lists at the same time\n",
    "\n",
    "when one is exhausted, take the remaining value at the inner ix\n",
    "\n",
    "\n",
    "however, let's try a quick and dirty approach to get correct answers \n",
    "\n",
    "-> could fail time complexity, but better to start with correct and brute, then gain efficiency\n",
    "\n",
    "#\n",
    "get_val(ln:ListNode=None):\n",
    "    if ln == None:\n",
    "        return(0)\n",
    "    else:\n",
    "        return(ln.val)\n",
    "        \n",
    "# Outer iteration condition\n",
    "while any(\n",
    "    [\n",
    "    curr_l1 not None,\n",
    "    curr_l2 not None\n",
    "    ]\n",
    "    ):\n",
    "# Carry 10s to next sum\n",
    "                        # (7+7)//10 , (7+7)%10\n",
    "next_sum, curr_sum = (next_sum + curr_l1 + curr_l2)//10 , (next_sum + curr_l1 + curr_l2)%10\n",
    "\n",
    "# build linked list as we gather sums\n",
    "\n",
    "\n",
    "\"\"\""
   ]
  },
  {
   "cell_type": "code",
   "execution_count": null,
   "metadata": {},
   "outputs": [],
   "source": [
    "# Definition for singly-linked list.\n",
    "# class ListNode:\n",
    "#     def __init__(self, val=0, next=None):\n",
    "#         self.val = val\n",
    "#         self.next = next\n",
    "\n",
    "\"\"\"\n",
    "Runtime: 81 ms, faster than 70.70% of Python3 online submissions for Add Two Numbers.\n",
    "Memory Usage: 13.9 MB, less than 43.12% of Python3 online submissions for Add Two Numbers.\n",
    "\"\"\"\n",
    "\n",
    "n_ = lambda t_ : t_.next\n",
    "\n",
    "class Solution:    \n",
    "    def iter_to_list(self, l_:ListNode)->list:\n",
    "        \"\"\" conjoin linked list from final ListNode\n",
    "        eg: \n",
    "        iter_to_list(\n",
    "                ListNode{val: 2 next:\n",
    "                    ListNode{val: 4, next:\n",
    "                        ListNode{val: 3, next: None}\n",
    "                            }\n",
    "                        }\n",
    "                    )\n",
    "        ->\n",
    "        [3,4,2]        \n",
    "        \"\"\"\n",
    "        list_ = list()\n",
    "\n",
    "        curr_l = l_\n",
    "        \n",
    "        while curr_l != None:\n",
    "        \n",
    "            #print(f\"curr_l.val: {curr_l.val}, curr_l.next: {curr_l.next}\")\n",
    "            \n",
    "            list_.insert(0, curr_l.val)\n",
    "            \n",
    "            curr_l = curr_l.next\n",
    "            \n",
    "        return(list_)\n",
    "\n",
    "    def list_to_str_to_int(self, l0: list=None) -> int:\n",
    "        return(\n",
    "            int(\"\".join(\n",
    "                [str(n) for n in l0]\n",
    "            )\n",
    "               )\n",
    "        )\n",
    "    \n",
    "    def int_to_str_to_ll_ints(self, int_ : int=None) -> ListNode:\n",
    "        s_ = str(int_)\n",
    "        lst_ = list(s_) # [::-1]\n",
    "        a_ = None\n",
    "        for i in range(len(lst_)):\n",
    "            a_=ListNode(val=lst_[i], next=a_)\n",
    "        return(a_)\n",
    "            \n",
    "        \n",
    "\n",
    "    def get_sums(self, l1,l2)->int:\n",
    "        sum_ = self.list_to_str_to_int(self.iter_to_list( l1 )) + self.list_to_str_to_int(self.iter_to_list( l2 ))\n",
    "        return(sum_)\n",
    "\n",
    "    \n",
    "    \n",
    "    def addTwoNumbers(self, l1: Optional[ListNode], l2: Optional[ListNode]) -> Optional[ListNode]:\n",
    "        return(\n",
    "            self.int_to_str_to_ll_ints(\n",
    "                self.get_sums(\n",
    "                    l1,\n",
    "                    l2)\n",
    "                )\n",
    "            )\n",
    "\n"
   ]
  },
  {
   "cell_type": "code",
   "execution_count": 5,
   "metadata": {},
   "outputs": [
    {
     "name": "stdout",
     "output_type": "stream",
     "text": [
      "[[[[[[[]]]]]]]\n",
      "depth : 0\n",
      "[[[[[[]]]]]]\n",
      "depth : 0\n",
      "[[[[[]]]]]\n",
      "depth : 1\n",
      "[[[[]]]]\n",
      "depth : 2\n",
      "[[[]]]\n",
      "depth : 3\n",
      "[[]]\n",
      "depth : 4\n",
      "[]\n",
      "depth : 5\n",
      "list index out of range : <class 'IndexError'>\n"
     ]
    }
   ],
   "source": [
    "l = [[[[[[[]]]]]]]\n",
    "\n",
    "depth=0\n",
    "l1=l\n",
    "print(l1)\n",
    "print(f\"depth : {depth}\")\n",
    "while 1:\n",
    "    try:\n",
    "        l1=l1[0]\n",
    "        print(l1)\n",
    "        print(f\"depth : {depth}\")\n",
    "        depth+=1    \n",
    "    except Exception as e:\n",
    "        print(f\"{e} : {type(e)}\")\n",
    "\n",
    "        break"
   ]
  },
  {
   "cell_type": "code",
   "execution_count": 7,
   "metadata": {},
   "outputs": [
    {
     "data": {
      "text/plain": [
       "(0, None)"
      ]
     },
     "execution_count": 7,
     "metadata": {},
     "output_type": "execute_result"
    }
   ],
   "source": [
    "class ListNode:\n",
    "    def __init__(self, val=0, next=None):\n",
    "        self.val = val\n",
    "        self.next = next\n",
    "\n",
    "a = ListNode()\n",
    "a.val, a.next"
   ]
  }
 ],
 "metadata": {
  "kernelspec": {
   "display_name": "Python 3.8.10 ('hhhb_venv_win')",
   "language": "python",
   "name": "python3"
  },
  "language_info": {
   "codemirror_mode": {
    "name": "ipython",
    "version": 3
   },
   "file_extension": ".py",
   "mimetype": "text/x-python",
   "name": "python",
   "nbconvert_exporter": "python",
   "pygments_lexer": "ipython3",
   "version": "3.8.10"
  },
  "orig_nbformat": 4,
  "vscode": {
   "interpreter": {
    "hash": "bb930cfed33480b59831dbd05559a9f44dfdec9e4749380c17fcb8534023418d"
   }
  }
 },
 "nbformat": 4,
 "nbformat_minor": 2
}
