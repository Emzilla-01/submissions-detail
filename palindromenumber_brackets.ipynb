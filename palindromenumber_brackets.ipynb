{
 "cells": [
  {
   "cell_type": "code",
   "execution_count": 46,
   "metadata": {},
   "outputs": [
    {
     "ename": "ValueError",
     "evalue": "invalid literal for int() with base 10: '_'",
     "output_type": "error",
     "traceback": [
      "\u001b[1;31m---------------------------------------------------------------------------\u001b[0m",
      "\u001b[1;31mValueError\u001b[0m                                Traceback (most recent call last)",
      "\u001b[1;32mc:\\Users\\emmam\\OneDrive\\Desktop\\code\\leetcode\\solutions\\submissions-detail-729672772-\\palindromenumber_brackets.ipynb Cell 1'\u001b[0m in \u001b[0;36m<cell line: 28>\u001b[1;34m()\u001b[0m\n\u001b[0;32m     <a href='vscode-notebook-cell:/c%3A/Users/emmam/OneDrive/Desktop/code/leetcode/solutions/submissions-detail-729672772-/palindromenumber_brackets.ipynb#ch0000014?line=24'>25</a>\u001b[0m         \u001b[39mreturn\u001b[39;00m(i, nums)\n\u001b[0;32m     <a href='vscode-notebook-cell:/c%3A/Users/emmam/OneDrive/Desktop/code/leetcode/solutions/submissions-detail-729672772-/palindromenumber_brackets.ipynb#ch0000014?line=26'>27</a>\u001b[0m S\u001b[39m=\u001b[39mSolution()\n\u001b[1;32m---> <a href='vscode-notebook-cell:/c%3A/Users/emmam/OneDrive/Desktop/code/leetcode/solutions/submissions-detail-729672772-/palindromenumber_brackets.ipynb#ch0000014?line=27'>28</a>\u001b[0m a\u001b[39m=\u001b[39mS\u001b[39m.\u001b[39;49mremoveDuplicates(nums)\n\u001b[0;32m     <a href='vscode-notebook-cell:/c%3A/Users/emmam/OneDrive/Desktop/code/leetcode/solutions/submissions-detail-729672772-/palindromenumber_brackets.ipynb#ch0000014?line=28'>29</a>\u001b[0m \u001b[39mprint\u001b[39m(a)\n",
      "\u001b[1;32mc:\\Users\\emmam\\OneDrive\\Desktop\\code\\leetcode\\solutions\\submissions-detail-729672772-\\palindromenumber_brackets.ipynb Cell 1'\u001b[0m in \u001b[0;36mSolution.removeDuplicates\u001b[1;34m(self, nums)\u001b[0m\n\u001b[0;32m     <a href='vscode-notebook-cell:/c%3A/Users/emmam/OneDrive/Desktop/code/leetcode/solutions/submissions-detail-729672772-/palindromenumber_brackets.ipynb#ch0000014?line=19'>20</a>\u001b[0m i\u001b[39m+\u001b[39m\u001b[39m=\u001b[39m\u001b[39m1\u001b[39m\n\u001b[0;32m     <a href='vscode-notebook-cell:/c%3A/Users/emmam/OneDrive/Desktop/code/leetcode/solutions/submissions-detail-729672772-/palindromenumber_brackets.ipynb#ch0000014?line=20'>21</a>\u001b[0m \u001b[39mtry\u001b[39;00m:\n\u001b[1;32m---> <a href='vscode-notebook-cell:/c%3A/Users/emmam/OneDrive/Desktop/code/leetcode/solutions/submissions-detail-729672772-/palindromenumber_brackets.ipynb#ch0000014?line=21'>22</a>\u001b[0m     last_n\u001b[39m=\u001b[39m\u001b[39mint\u001b[39;49m(nums[i])\n\u001b[0;32m     <a href='vscode-notebook-cell:/c%3A/Users/emmam/OneDrive/Desktop/code/leetcode/solutions/submissions-detail-729672772-/palindromenumber_brackets.ipynb#ch0000014?line=22'>23</a>\u001b[0m \u001b[39mexcept\u001b[39;00m \u001b[39mIndexError\u001b[39;00m \u001b[39mas\u001b[39;00m e:\n\u001b[0;32m     <a href='vscode-notebook-cell:/c%3A/Users/emmam/OneDrive/Desktop/code/leetcode/solutions/submissions-detail-729672772-/palindromenumber_brackets.ipynb#ch0000014?line=23'>24</a>\u001b[0m     \u001b[39mpass\u001b[39;00m\n",
      "\u001b[1;31mValueError\u001b[0m: invalid literal for int() with base 10: '_'"
     ]
    }
   ],
   "source": [
    "from typing import List\n",
    "\n",
    "nums=[1,1,2]\n",
    "class Solution:\n",
    "    def removeDuplicates(self, nums: List[int]) -> int:\n",
    "        last_n=None\n",
    "        moved_counter=0\n",
    "        # k=0\n",
    "        i=0\n",
    "        while i < len(nums):\n",
    "            #print(f\"i:{i}, last_n:{last_n}, moved_counter:{moved_counter}\")\n",
    "            if nums[i]==last_n:\n",
    "                nums.pop(i)\n",
    "                #nums=nums[:i]+nums[i+1:]+[nums[i]]\n",
    "                moved_counter+=1\n",
    "                # if len(nums)//2 < moved_counter:\n",
    "                #     break\n",
    "            else:\n",
    "                i+=1\n",
    "                try:\n",
    "                    last_n=int(nums[i])\n",
    "                except IndexError as e:\n",
    "                    pass\n",
    "        return(i, nums)\n",
    "\n",
    "S=Solution()\n",
    "a=S.removeDuplicates(nums)\n",
    "print(a)"
   ]
  },
  {
   "cell_type": "code",
   "execution_count": 42,
   "metadata": {},
   "outputs": [
    {
     "name": "stdout",
     "output_type": "stream",
     "text": [
      "(2, [1, 2])\n"
     ]
    }
   ],
   "source": [
    "from typing import List\n",
    "# nums=[0,0,1,1,1,2,2,3,3,4]\n",
    "# nums=[0,0,1,1,1,2,2,3,3,4]\n",
    "nums=[1,1,2]\n",
    "class Solution:\n",
    "    def removeDuplicates(self, nums: List[int]) -> int:\n",
    "        last_n=None\n",
    "        moved_counter=0\n",
    "        # k=0\n",
    "        i=0\n",
    "        while i < len(nums):\n",
    "            #print(f\"i:{i}, last_n:{last_n}, moved_counter:{moved_counter}\")\n",
    "            if nums[i]==last_n:\n",
    "                nums.pop(i)\n",
    "                #nums=nums[:i]+nums[i+1:]+[nums[i]]\n",
    "                moved_counter+=1\n",
    "                # if len(nums)//2 < moved_counter:\n",
    "                #     break\n",
    "            else:\n",
    "                i+=1\n",
    "                try:\n",
    "                    last_n=int(nums[i])\n",
    "                except IndexError as e:\n",
    "                    pass\n",
    "        return(i, nums)\n",
    "S=Solution()\n",
    "a=S.removeDuplicates(nums)\n",
    "print(a)"
   ]
  },
  {
   "cell_type": "code",
   "execution_count": 39,
   "metadata": {},
   "outputs": [
    {
     "name": "stdout",
     "output_type": "stream",
     "text": [
      "Help on method_descriptor:\n",
      "\n",
      "pop(self, index=-1, /)\n",
      "    Remove and return item at index (default last).\n",
      "    \n",
      "    Raises IndexError if list is empty or index is out of range.\n",
      "\n"
     ]
    }
   ],
   "source": [
    "help(list.pop)"
   ]
  },
  {
   "cell_type": "code",
   "execution_count": 24,
   "metadata": {},
   "outputs": [
    {
     "data": {
      "text/plain": [
       "5"
      ]
     },
     "execution_count": 24,
     "metadata": {},
     "output_type": "execute_result"
    }
   ],
   "source": [
    "10//2"
   ]
  },
  {
   "cell_type": "code",
   "execution_count": 14,
   "metadata": {},
   "outputs": [
    {
     "name": "stdout",
     "output_type": "stream",
     "text": [
      "c:{, last_opened:[]\n",
      "c:}, last_opened:['{']\n",
      "c:[, last_opened:[]\n",
      "c:(, last_opened:['[']\n",
      "c:], last_opened:['[', '(']\n",
      "False\n"
     ]
    }
   ],
   "source": [
    "'''\n",
    "Runtime: 47 ms, faster than 53.66% of Python3 online submissions for Valid Parentheses.\n",
    "Memory Usage: 13.9 MB, less than 69.90% of Python3 online submissions for Valid Parentheses.\n",
    "'''\n",
    "def close2open(c):\n",
    "    d = {'}':'{',\n",
    "         ']':'[',\n",
    "         ')':'('\n",
    "        }\n",
    "    return(d.get(c))\n",
    "\n",
    "class Solution:    \n",
    "    def isValid(self, s: str) -> bool:\n",
    "        last_opened=list()\n",
    "        for c in s:\n",
    "            if c in '([{':\n",
    "                last_opened.append(c)\n",
    "            elif c in ')]}':\n",
    "                try:\n",
    "                    if close2open(c) == last_opened[-1]:\n",
    "                        del last_opened[-1]\n",
    "                    else:\n",
    "                        return(False)\n",
    "                except IndexError as e:\n",
    "                    return(False)\n",
    "        if last_opened == list():\n",
    "            return(True)\n",
    "        return(False)"
   ]
  },
  {
   "cell_type": "code",
   "execution_count": 4,
   "metadata": {},
   "outputs": [
    {
     "name": "stdout",
     "output_type": "stream",
     "text": [
      "Help on method_descriptor:\n",
      "\n",
      "remove(self, value, /)\n",
      "    Remove first occurrence of value.\n",
      "    \n",
      "    Raises ValueError if the value is not present.\n",
      "\n"
     ]
    }
   ],
   "source": []
  },
  {
   "cell_type": "code",
   "execution_count": null,
   "metadata": {},
   "outputs": [],
   "source": [
    "class Solution:    \n",
    "    def isValid(self, s: str) -> bool:\n",
    "        open_braces_counter={'():'0,\n",
    "                             '[]':0,\n",
    "                             '{}':0,\n",
    "                             'inner'=None\n",
    "                            }\n",
    "        case_dict = {'(' : ('()',  1), \n",
    "                     ')' : ('()', -1), \n",
    "                     '[' : ('[]',  1), \n",
    "                     ']' : ('[]', -1), \n",
    "                     '{' : ('{}',  1), \n",
    "                     '}' : ('{}', -1), \n",
    "                     }\n",
    "\n",
    "        for i in len(s):\n",
    "            if any([v<0 for v in open_braces_counter.values()]):\n",
    "                return(False)\n",
    "\n",
    "\n",
    "            match s[i]:\n",
    "                case '(':\n",
    "                    open_braces_counter('()')+=1\n",
    "                case ')':\n",
    "                    open_braces_counter('()')-=1"
   ]
  },
  {
   "cell_type": "code",
   "execution_count": 32,
   "metadata": {},
   "outputs": [
    {
     "name": "stdout",
     "output_type": "stream",
     "text": [
      "True\n"
     ]
    }
   ],
   "source": [
    "class Solution:\n",
    "    def isPalindrome(self, x: int) -> bool:\n",
    "        if x<0:\n",
    "            return(False)\n",
    "        s = str(x)\n",
    "        for i in range(\n",
    "            (len(s)//2 +1)\n",
    "            ):\n",
    "            if not s[i] == s[-(i+1)]:\n",
    "                return(False)\n",
    "        return(True)\n",
    "\n",
    "c=1001001\n",
    "S=Solution()\n",
    "a=S.isPalindrome(c)\n",
    "print(a)"
   ]
  },
  {
   "cell_type": "code",
   "execution_count": 28,
   "metadata": {},
   "outputs": [
    {
     "data": {
      "text/plain": [
       "2"
      ]
     },
     "execution_count": 28,
     "metadata": {},
     "output_type": "execute_result"
    }
   ],
   "source": [
    "5//2"
   ]
  },
  {
   "cell_type": "code",
   "execution_count": 10,
   "metadata": {},
   "outputs": [],
   "source": [
    "x=2,147,483,648\n",
    "x = 2**31"
   ]
  },
  {
   "cell_type": "code",
   "execution_count": 2,
   "metadata": {},
   "outputs": [
    {
     "data": {
      "text/plain": [
       "10"
      ]
     },
     "execution_count": 2,
     "metadata": {},
     "output_type": "execute_result"
    }
   ],
   "source": [
    "10**1"
   ]
  },
  {
   "cell_type": "code",
   "execution_count": 37,
   "metadata": {},
   "outputs": [
    {
     "name": "stdout",
     "output_type": "stream",
     "text": [
      "0 2147483648 0\n",
      "1 214748364 8\n",
      "2 21474836 48\n",
      "3 2147483 648\n",
      "4 214748 3648\n",
      "5 21474 83648\n",
      "6 2147 483648\n",
      "7 214 7483648\n",
      "8 21 47483648\n",
      "9 2 147483648\n",
      "10 0 2147483648\n"
     ]
    }
   ],
   "source": [
    "# from math import ceil\n",
    "l=list()\n",
    "for pw in range(0,11):\n",
    "    # l.append( x// 10**pw)\n",
    "    print( pw, x//10**pw,  (x%10**pw))\n",
    "# l"
   ]
  },
  {
   "cell_type": "code",
   "execution_count": 15,
   "metadata": {},
   "outputs": [
    {
     "data": {
      "text/plain": [
       "1"
      ]
     },
     "execution_count": 15,
     "metadata": {},
     "output_type": "execute_result"
    }
   ],
   "source": [
    "10**0"
   ]
  },
  {
   "cell_type": "code",
   "execution_count": 4,
   "metadata": {},
   "outputs": [
    {
     "data": {
      "text/plain": [
       "1000000000"
      ]
     },
     "execution_count": 4,
     "metadata": {},
     "output_type": "execute_result"
    }
   ],
   "source": [
    "1*10**9"
   ]
  },
  {
   "cell_type": "code",
   "execution_count": null,
   "metadata": {},
   "outputs": [],
   "source": [
    "1,000,000,000"
   ]
  }
 ],
 "metadata": {
  "kernelspec": {
   "display_name": "Python 3.8.10 ('hhhb_venv_win')",
   "language": "python",
   "name": "python3"
  },
  "language_info": {
   "codemirror_mode": {
    "name": "ipython",
    "version": 3
   },
   "file_extension": ".py",
   "mimetype": "text/x-python",
   "name": "python",
   "nbconvert_exporter": "python",
   "pygments_lexer": "ipython3",
   "version": "3.8.10"
  },
  "orig_nbformat": 4,
  "vscode": {
   "interpreter": {
    "hash": "bb930cfed33480b59831dbd05559a9f44dfdec9e4749380c17fcb8534023418d"
   }
  }
 },
 "nbformat": 4,
 "nbformat_minor": 2
}
