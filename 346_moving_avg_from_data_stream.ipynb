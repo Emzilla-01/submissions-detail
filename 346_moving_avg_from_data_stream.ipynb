{
 "cells": [
  {
   "cell_type": "code",
   "execution_count": 8,
   "metadata": {},
   "outputs": [],
   "source": [
    "\"\"\"\n",
    "Runtime: 125 ms, faster than 40.81% of Python3 online submissions for Moving Average from Data Stream.\n",
    "Memory Usage: 17.2 MB, less than 78.47% of Python3 online submissions for Moving Average from Data Stream.\n",
    "\"\"\"\n",
    "class MovingAverage:\n",
    "    def __init__(self, size: int):\n",
    "        self.a=None\n",
    "        self.size=size\n",
    "        self.window=list()\n",
    "    def next(self, val: int) -> float:\n",
    "        if len(self.window)==self.size:\n",
    "            self.window = self.window[1:] + [val]\n",
    "        else:\n",
    "            self.window.append(val)\n",
    "        self.a=sum(self.window)/len(self.window)\n",
    "        return(self.a)\n",
    "        \n",
    "# Your MovingAverage object will be instantiated and called as such:\n",
    "# obj = MovingAverage(size)\n",
    "# param_1 = obj.next(val)"
   ]
  },
  {
   "cell_type": "code",
   "execution_count": 9,
   "metadata": {},
   "outputs": [],
   "source": [
    "x = MovingAverage(3)"
   ]
  },
  {
   "cell_type": "code",
   "execution_count": 10,
   "metadata": {},
   "outputs": [],
   "source": [
    "x.next(1)"
   ]
  },
  {
   "cell_type": "code",
   "execution_count": 12,
   "metadata": {},
   "outputs": [],
   "source": [
    "x.next(1)"
   ]
  },
  {
   "cell_type": "code",
   "execution_count": null,
   "metadata": {},
   "outputs": [],
   "source": [
    "[\"MovingAverage\", \"next\", \"next\", \"next\", \"next\"]\n",
    "[[3], [1], [10], [3], [5]]\n",
    "# Output\n",
    "[None, 1.0, 5.5, 4.66667, 6.0]"
   ]
  },
  {
   "cell_type": "code",
   "execution_count": 21,
   "metadata": {},
   "outputs": [
    {
     "data": {
      "text/plain": [
       "(1.0, 5.5, 4.666666666666667, 6.333333333333333)"
      ]
     },
     "execution_count": 21,
     "metadata": {},
     "output_type": "execute_result"
    }
   ],
   "source": [
    "#1   10    3      5\n",
    "1/1, 11/2, 14/3, (13+5+1)/3\n",
    "\n"
   ]
  },
  {
   "cell_type": "code",
   "execution_count": 15,
   "metadata": {},
   "outputs": [
    {
     "data": {
      "text/plain": [
       "(1.0, 5.5, 4.666666666666667)"
      ]
     },
     "execution_count": 15,
     "metadata": {},
     "output_type": "execute_result"
    }
   ],
   "source": [
    "#  [1], [10], [3], [5]\n",
    "\n",
    "1/1, 11/2, 14/3, "
   ]
  },
  {
   "cell_type": "code",
   "execution_count": 18,
   "metadata": {},
   "outputs": [
    {
     "data": {
      "text/plain": [
       "4.666666666666667"
      ]
     },
     "execution_count": 18,
     "metadata": {},
     "output_type": "execute_result"
    }
   ],
   "source": [
    "14/3"
   ]
  },
  {
   "cell_type": "code",
   "execution_count": null,
   "metadata": {},
   "outputs": [],
   "source": [
    "list.pop"
   ]
  },
  {
   "cell_type": "code",
   "execution_count": null,
   "metadata": {},
   "outputs": [],
   "source": [
    "\"\"\"\n",
    "Runtime: 138 ms, faster than 32.30% of Python3 online submissions for Moving Average from Data Stream.\n",
    "Memory Usage: 17.2 MB, less than 78.47% of Python3 online submissions for Moving Average from Data Stream.\n",
    "\"\"\"\n",
    "class MovingAverage:\n",
    "    def __init__(self, size: int):\n",
    "        self.a=None\n",
    "        self.size=size\n",
    "        self.lst=list()\n",
    "        self.window_sum = 0\n",
    "        self.tail=0\n",
    "    def next(self, val: int) -> float:\n",
    "        if len(self.lst)==self.size:\n",
    "            # self.tail=self.lst.pop(0)\n",
    "            self.tail=self.lst[0]\n",
    "            self.lst = self.lst[1:] + [val]\n",
    "        else:\n",
    "            self.lst.append(val)\n",
    "        self.window_sum = self.window_sum - self.tail + val\n",
    "        \n",
    "        return(self.window_sum/self.lst.__len__())      \n",
    "        \n",
    "# Your MovingAverage object will be instantiated and called as such:\n",
    "# obj = MovingAverage(size)\n",
    "# param_1 = obj.next(val)"
   ]
  }
 ],
 "metadata": {
  "kernelspec": {
   "display_name": "Python 3.8.10 ('hhhb_venv_win')",
   "language": "python",
   "name": "python3"
  },
  "language_info": {
   "codemirror_mode": {
    "name": "ipython",
    "version": 3
   },
   "file_extension": ".py",
   "mimetype": "text/x-python",
   "name": "python",
   "nbconvert_exporter": "python",
   "pygments_lexer": "ipython3",
   "version": "3.8.10"
  },
  "orig_nbformat": 4,
  "vscode": {
   "interpreter": {
    "hash": "bb930cfed33480b59831dbd05559a9f44dfdec9e4749380c17fcb8534023418d"
   }
  }
 },
 "nbformat": 4,
 "nbformat_minor": 2
}
