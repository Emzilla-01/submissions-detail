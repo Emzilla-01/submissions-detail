{
 "cells": [
  {
   "cell_type": "code",
   "execution_count": 8,
   "metadata": {},
   "outputs": [],
   "source": [
    "from typing import List\n",
    "# https://leetcode.com/problems/best-time-to-buy-and-sell-stock/\n",
    "class Solution:\n",
    "    def maxProfit(self, prices: List[int]) -> int:\n",
    "        d = dict()\n",
    "        L = 0\n",
    "        R = 0\n",
    "        for i in range(len(prices)):\n",
    "            d[i]={\n",
    "                'p' : 0, # \"profit\"\n",
    "                'ix_of_greatest_next_n' : i,\n",
    "            }\n",
    "        \n",
    "    \n",
    "        #     if any([\n",
    "        #         prices[i] < prices[L],\n",
    "        #         prices[L] == -1]):\n",
    "        #         L = i\n",
    "        #     if any([\n",
    "        #         prices[i] > prices[R],\n",
    "        #         R<L\n",
    "        #     ]):\n",
    "        #         R = i\n",
    "        # p=prices[R] - prices[L]\n",
    "        if p > 0:\n",
    "            return p\n",
    "        return 0"
   ]
  },
  {
   "cell_type": "code",
   "execution_count": 9,
   "metadata": {},
   "outputs": [
    {
     "data": {
      "text/plain": [
       "3"
      ]
     },
     "execution_count": 9,
     "metadata": {},
     "output_type": "execute_result"
    }
   ],
   "source": [
    "s = Solution()\n",
    "c = [2,4,1]\n",
    "s.maxProfit(c)"
   ]
  },
  {
   "cell_type": "code",
   "execution_count": null,
   "metadata": {},
   "outputs": [],
   "source": []
  }
 ],
 "metadata": {
  "kernelspec": {
   "display_name": "Python 3.8.10 ('hhhb_venv_win')",
   "language": "python",
   "name": "python3"
  },
  "language_info": {
   "codemirror_mode": {
    "name": "ipython",
    "version": 3
   },
   "file_extension": ".py",
   "mimetype": "text/x-python",
   "name": "python",
   "nbconvert_exporter": "python",
   "pygments_lexer": "ipython3",
   "version": "3.8.10"
  },
  "orig_nbformat": 4,
  "vscode": {
   "interpreter": {
    "hash": "bb930cfed33480b59831dbd05559a9f44dfdec9e4749380c17fcb8534023418d"
   }
  }
 },
 "nbformat": 4,
 "nbformat_minor": 2
}
