{
 "cells": [
  {
   "cell_type": "code",
   "execution_count": 8,
   "metadata": {},
   "outputs": [],
   "source": [
    "\"\"\"\n",
    "Runtime: 1107 ms, faster than 89.11% of Python3 online submissions for Best Time to Buy and Sell Stock.\n",
    "Memory Usage: 25 MB, less than 85.10% of Python3 online submissions for Best Time to Buy and Sell Stock.\n",
    "\"\"\"\n",
    "class Solution:\n",
    "    def maxProfit(self, prices: List[int]) -> int:\n",
    "        max_profit = 0        \n",
    "        lowest_price = float('inf')        \n",
    "        for i in range(len(prices)):            \n",
    "            if prices[i] < lowest_price:                \n",
    "                lowest_price = prices[i]                \n",
    "            today_profit = prices[i] - lowest_price            \n",
    "            if today_profit > max_profit:                \n",
    "                max_profit = today_profit                \n",
    "        return(max_profit)"
   ]
  },
  {
   "cell_type": "code",
   "execution_count": 9,
   "metadata": {},
   "outputs": [
    {
     "data": {
      "text/plain": [
       "3"
      ]
     },
     "execution_count": 9,
     "metadata": {},
     "output_type": "execute_result"
    }
   ],
   "source": [
    "s = Solution()\n",
    "c = [2,4,1]\n",
    "s.maxProfit(c)"
   ]
  }
 ],
 "metadata": {
  "kernelspec": {
   "display_name": "Python 3.8.10 ('hhhb_venv_win')",
   "language": "python",
   "name": "python3"
  },
  "language_info": {
   "codemirror_mode": {
    "name": "ipython",
    "version": 3
   },
   "file_extension": ".py",
   "mimetype": "text/x-python",
   "name": "python",
   "nbconvert_exporter": "python",
   "pygments_lexer": "ipython3",
   "version": "3.8.10"
  },
  "orig_nbformat": 4,
  "vscode": {
   "interpreter": {
    "hash": "bb930cfed33480b59831dbd05559a9f44dfdec9e4749380c17fcb8534023418d"
   }
  }
 },
 "nbformat": 4,
 "nbformat_minor": 2
}
