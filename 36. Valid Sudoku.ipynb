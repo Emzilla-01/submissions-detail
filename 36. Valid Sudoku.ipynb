{
 "cells": [
  {
   "cell_type": "code",
   "execution_count": 2,
   "metadata": {},
   "outputs": [],
   "source": [
    "board = \\\n",
    "[[\"5\",\"3\",\".\",\".\",\"7\",\".\",\".\",\".\",\".\"]\n",
    ",[\"6\",\".\",\".\",\"1\",\"9\",\"5\",\".\",\".\",\".\"]\n",
    ",[\".\",\"9\",\"8\",\".\",\".\",\".\",\".\",\"6\",\".\"]\n",
    ",[\"8\",\".\",\".\",\".\",\"6\",\".\",\".\",\".\",\"3\"]\n",
    ",[\"4\",\".\",\".\",\"8\",\".\",\"3\",\".\",\".\",\"1\"]\n",
    ",[\"7\",\".\",\".\",\".\",\"2\",\".\",\".\",\".\",\"6\"]\n",
    ",[\".\",\"6\",\".\",\".\",\".\",\".\",\"2\",\"8\",\".\"]\n",
    ",[\".\",\".\",\".\",\"4\",\"1\",\"9\",\".\",\".\",\"5\"]\n",
    ",[\".\",\".\",\".\",\".\",\"8\",\".\",\".\",\"7\",\"9\"]]"
   ]
  },
  {
   "cell_type": "code",
   "execution_count": 3,
   "metadata": {},
   "outputs": [
    {
     "data": {
      "text/plain": [
       "[['5', '3', '.', '.', '7', '.', '.', '.', '.'],\n",
       " ['6', '.', '.', '1', '9', '5', '.', '.', '.'],\n",
       " ['.', '9', '8', '.', '.', '.', '.', '6', '.'],\n",
       " ['8', '.', '.', '.', '6', '.', '.', '.', '3'],\n",
       " ['4', '.', '.', '8', '.', '3', '.', '.', '1'],\n",
       " ['7', '.', '.', '.', '2', '.', '.', '.', '6'],\n",
       " ['.', '6', '.', '.', '.', '.', '2', '8', '.'],\n",
       " ['.', '.', '.', '4', '1', '9', '.', '.', '5'],\n",
       " ['.', '.', '.', '.', '8', '.', '.', '7', '9']]"
      ]
     },
     "execution_count": 3,
     "metadata": {},
     "output_type": "execute_result"
    }
   ],
   "source": [
    "board"
   ]
  },
  {
   "cell_type": "code",
   "execution_count": 7,
   "metadata": {},
   "outputs": [
    {
     "data": {
      "text/plain": [
       "(['6', '.', '.'], ['1', '9', '5'], ['.', '.', '.'])"
      ]
     },
     "execution_count": 7,
     "metadata": {},
     "output_type": "execute_result"
    }
   ],
   "source": [
    "board[0][:3], board[0][3:6], board[0][6:]\n",
    "board[1][:3], board[1][3:6], board[1][6:]\n",
    "# row wise eval"
   ]
  },
  {
   "cell_type": "code",
   "execution_count": 8,
   "metadata": {},
   "outputs": [
    {
     "name": "stdout",
     "output_type": "stream",
     "text": [
      "['5', '3', '.'] ['.', '7', '.'] ['.', '.', '.']\n",
      "['6', '.', '.'] ['1', '9', '5'] ['.', '.', '.']\n",
      "['.', '9', '8'] ['.', '.', '.'] ['.', '6', '.']\n",
      "['8', '.', '.'] ['.', '6', '.'] ['.', '.', '3']\n",
      "['4', '.', '.'] ['8', '.', '3'] ['.', '.', '1']\n",
      "['7', '.', '.'] ['.', '2', '.'] ['.', '.', '6']\n",
      "['.', '6', '.'] ['.', '.', '.'] ['2', '8', '.']\n",
      "['.', '.', '.'] ['4', '1', '9'] ['.', '.', '5']\n",
      "['.', '.', '.'] ['.', '8', '.'] ['.', '7', '9']\n"
     ]
    }
   ],
   "source": [
    "for i in range(0,9):\n",
    "    print(board[i][:3], board[i][3:6], board[i][6:])"
   ]
  },
  {
   "cell_type": "code",
   "execution_count": 25,
   "metadata": {},
   "outputs": [
    {
     "name": "stdout",
     "output_type": "stream",
     "text": [
      "['5', '3', '.'] ['.', '7', '.'] ['.', '.', '.']\n",
      "['6', '.', '.'] ['1', '9', '5'] ['.', '.', '.']\n",
      "['.', '9', '8'] ['.', '.', '.'] ['.', '6', '.']\n",
      "['8', '.', '.'] ['.', '6', '.'] ['.', '.', '3']\n",
      "['4', '.', '.'] ['8', '.', '3'] ['.', '.', '1']\n",
      "['7', '.', '.'] ['.', '2', '.'] ['.', '.', '6']\n",
      "['.', '6', '.'] ['.', '.', '.'] ['2', '8', '.']\n",
      "['.', '.', '.'] ['4', '1', '9'] ['.', '.', '5']\n",
      "['.', '.', '.'] ['.', '8', '.'] ['.', '7', '9']\n"
     ]
    }
   ],
   "source": [
    "for y in range(0,9):\n",
    "    print(board[y][0:3], board[y][3:6], board[y][6:9])"
   ]
  },
  {
   "cell_type": "code",
   "execution_count": null,
   "metadata": {},
   "outputs": [],
   "source": [
    "0,0\n",
    "0,1\n",
    "0,2\n",
    " ,\n",
    "1,0\n",
    "1,1\n",
    "1,2\n",
    "\n",
    "2,0\n",
    "2,1\n",
    "2,2\n",
    "\n",
    "y_bounds=3\n",
    "x_bounds=3\n",
    "\n",
    "y_inc=3\n",
    "x_inc=0\n",
    "\n",
    "\n"
   ]
  },
  {
   "cell_type": "code",
   "execution_count": 9,
   "metadata": {},
   "outputs": [
    {
     "data": {
      "text/plain": [
       "[((0, 3), (0, 3)), ((3, 6), (3, 6)), ((6, 9), (6, 9))]"
      ]
     },
     "execution_count": 9,
     "metadata": {},
     "output_type": "execute_result"
    }
   ],
   "source": [
    "i0 = 0\n",
    "row_slices=list()\n",
    "column_slices=list()\n",
    "while i0<7:\n",
    "    t=(i0,i0+3)\n",
    "    row_slices.append(t) , column_slices.append(t) \n",
    "    i0+=3\n",
    "\n",
    "row_slices, column_slices\n",
    "list(zip(row_slices, column_slices))"
   ]
  },
  {
   "cell_type": "code",
   "execution_count": 3,
   "metadata": {},
   "outputs": [],
   "source": [
    "from collections import Counter\n",
    "c = Counter(row_slices+column_slices)\n"
   ]
  },
  {
   "cell_type": "code",
   "execution_count": 6,
   "metadata": {},
   "outputs": [],
   "source": [
    "d=dict()"
   ]
  },
  {
   "cell_type": "code",
   "execution_count": 7,
   "metadata": {},
   "outputs": [
    {
     "data": {
      "text/plain": [
       "Counter({(0, 3): 2, (3, 6): 2, (6, 9): 2})"
      ]
     },
     "execution_count": 7,
     "metadata": {},
     "output_type": "execute_result"
    }
   ],
   "source": [
    "c"
   ]
  },
  {
   "cell_type": "code",
   "execution_count": 13,
   "metadata": {},
   "outputs": [
    {
     "ename": "SyntaxError",
     "evalue": "invalid syntax (2386389021.py, line 2)",
     "output_type": "error",
     "traceback": [
      "\u001b[1;36m  Input \u001b[1;32mIn [13]\u001b[1;36m\u001b[0m\n\u001b[1;33m    def coords_each_3x3(List(List(String))):\u001b[0m\n\u001b[1;37m                            ^\u001b[0m\n\u001b[1;31mSyntaxError\u001b[0m\u001b[1;31m:\u001b[0m invalid syntax\n"
     ]
    }
   ],
   "source": [
    "from typing import List, String\n",
    "get coords_each_3x3(None):\n",
    "    \"\"\"\n",
    "    returns [[(int,int)]] # coordinates for each 3x3\n",
    "    \"\"\"\n",
    "    \n",
    "    pass"
   ]
  },
  {
   "cell_type": "code",
   "execution_count": null,
   "metadata": {},
   "outputs": [],
   "source": [
    "y0 = 0\n",
    "x0 = 0\n",
    "each_index=list()\n",
    "each_3x3=list()\n",
    "\n",
    "# while i0<7:\n",
    "    # t=(i0,i0+3)\n",
    "    # row_slices.append(t) , column_slices.append(t) \n",
    "    # i0+=3\n",
    "\n",
    "row_slices, column_slices\n",
    "list(zip(row_slices, column_slices))"
   ]
  }
 ],
 "metadata": {
  "kernelspec": {
   "display_name": "Python 3.8.10 ('hhhb_venv_win')",
   "language": "python",
   "name": "python3"
  },
  "language_info": {
   "codemirror_mode": {
    "name": "ipython",
    "version": 3
   },
   "file_extension": ".py",
   "mimetype": "text/x-python",
   "name": "python",
   "nbconvert_exporter": "python",
   "pygments_lexer": "ipython3",
   "version": "3.8.10"
  },
  "orig_nbformat": 4,
  "vscode": {
   "interpreter": {
    "hash": "bb930cfed33480b59831dbd05559a9f44dfdec9e4749380c17fcb8534023418d"
   }
  }
 },
 "nbformat": 4,
 "nbformat_minor": 2
}
