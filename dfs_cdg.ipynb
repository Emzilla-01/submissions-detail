{
 "cells": [
  {
   "cell_type": "code",
   "execution_count": null,
   "metadata": {},
   "outputs": [],
   "source": [
    "# https://www.codingame.com/ide/puzzle/death-first-search-episode-1\n",
    "\n",
    "\n",
    "\"\"\"\n",
    "node.left\n",
    "node.right\n",
    "node.val\n",
    "\n",
    "\n",
    "node.dist_to_red\n",
    "\n",
    "node._get_dist(listNode)\n",
    "\n",
    "\"\"\"\n"
   ]
  },
  {
   "cell_type": "markdown",
   "metadata": {},
   "source": [
    "import sys\n",
    "import math\n",
    "\n",
    "# Auto-generated code below aims at helping you parse\n",
    "# the standard input according to the problem statement.\n",
    "\n",
    "# n: the total number of nodes in the level, including the gateways\n",
    "# l: the number of links\n",
    "# e: the number of exit gateways\n",
    "n, l, e = [int(i) for i in input().split()]\n",
    "for i in range(l):\n",
    "    # n1: N1 and N2 defines a link between these nodes\n",
    "    n1, n2 = [int(j) for j in input().split()]\n",
    "for i in range(e):\n",
    "    ei = int(input())  # the index of a gateway node\n",
    "\n",
    "# game loop\n",
    "while True:\n",
    "    si = int(input())  # The index of the node on which the Bobnet agent is positioned this turn\n",
    "\n",
    "    # Write an action using print\n",
    "    # To debug: print(\"Debug messages...\", file=sys.stderr, flush=True)\n",
    "\n",
    "\n",
    "    # Example: 0 1 are the indices of the nodes you wish to sever the link between\n",
    "    print(\"0 1\")\n"
   ]
  }
 ],
 "metadata": {
  "kernelspec": {
   "display_name": "Python 3.8.10 ('hhhb_venv_win')",
   "language": "python",
   "name": "python3"
  },
  "language_info": {
   "name": "python",
   "version": "3.8.10"
  },
  "orig_nbformat": 4,
  "vscode": {
   "interpreter": {
    "hash": "bb930cfed33480b59831dbd05559a9f44dfdec9e4749380c17fcb8534023418d"
   }
  }
 },
 "nbformat": 4,
 "nbformat_minor": 2
}
