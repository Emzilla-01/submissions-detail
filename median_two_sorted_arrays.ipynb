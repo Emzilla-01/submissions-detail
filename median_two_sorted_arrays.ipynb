{
 "cells": [
  {
   "cell_type": "markdown",
   "metadata": {},
   "source": [
    "\n",
    "![](file:///c%3A/Users/emmam/OneDrive/Pictures/median_two_sorted_arrays.PNG)"
   ]
  },
  {
   "cell_type": "code",
   "execution_count": 3,
   "metadata": {},
   "outputs": [],
   "source": [
    "from typing import List\n",
    "class Solution:\n",
    "    def findMedianSortedArrays(self, nums1: List[int], nums2: List[int]) -> float:\n",
    "        f\"\"\"\n",
    "        \n",
    "        \"\"\"\n",
    "        계 = len(nums1)+len(nums2)\n",
    "        반 = 계//2\n",
    "        quarter = 반//2\n",
    "        # len1=len(nums1)\n",
    "        # len2=len(nums2)\n",
    "\n",
    "        chunks=f\"first {quarter} elements of 계 in l1 & l2\"\n",
    "        final_ixes = f\"compare l1+l2 to see which is lesser\"\n",
    "        median=f\"median of final indexes of each l1, l2 chunk\"\n",
    "        \n",
    "        # last_val=float('-inf')\n",
    "        # cur1=0 #float('-inf')\n",
    "        # cur2=0 #float('-inf')\n",
    "        # curr_median=None\n",
    "        # while all(\n",
    "        #     [cur1<len1,\n",
    "        #      cur2<len2]):\n",
    "        #      pass"
   ]
  },
  {
   "cell_type": "code",
   "execution_count": null,
   "metadata": {},
   "outputs": [],
   "source": [
    "\"\"\"Runtime: 167 ms, faster than 32.78% of Python3 online submissions for Median of Two Sorted Arrays.\n",
    "Memory Usage: 14.3 MB, less than 25.44% of Python3 online submissions for Median of Two Sorted Arrays.\"\"\"\n",
    "class Solution:\n",
    "    def findMedianSortedArrays(self, nums1: List[int], nums2: List[int]) -> float:\n",
    "        def get_median_of_list(l:List[int])->float:\n",
    "            len_l = len(l)\n",
    "            if len_l <1:\n",
    "                return(None)\n",
    "            if len_l % 2 == 0:\n",
    "                ixs = ((len(l)-1)//2, len(l)//2)\n",
    "                m = (l[ixs[0]]+l[ixs[1]])/2\n",
    "            else:\n",
    "                m = l[len(l)//2]\n",
    "            return(m)\n",
    "        l3 = sorted(nums1+nums2)\n",
    "        return(get_median_of_list(l3))\n",
    "        \n",
    "        \n",
    "        "
   ]
  },
  {
   "cell_type": "code",
   "execution_count": 35,
   "metadata": {},
   "outputs": [
    {
     "ename": "NameError",
     "evalue": "name 'nums1_curr' is not defined",
     "output_type": "error",
     "traceback": [
      "\u001b[1;31m---------------------------------------------------------------------------\u001b[0m",
      "\u001b[1;31mNameError\u001b[0m                                 Traceback (most recent call last)",
      "\u001b[1;32mc:\\Users\\emmam\\OneDrive\\Desktop\\code\\submissions-detail\\median_two_sorted_arrays.ipynb Cell 1\u001b[0m in \u001b[0;36m<cell line: 4>\u001b[1;34m()\u001b[0m\n\u001b[0;32m      <a href='vscode-notebook-cell:/c%3A/Users/emmam/OneDrive/Desktop/code/submissions-detail/median_two_sorted_arrays.ipynb#ch0000008?line=0'>1</a>\u001b[0m nums1\u001b[39m=\u001b[39m[\u001b[39m1\u001b[39m,\u001b[39m3\u001b[39m]\n\u001b[0;32m      <a href='vscode-notebook-cell:/c%3A/Users/emmam/OneDrive/Desktop/code/submissions-detail/median_two_sorted_arrays.ipynb#ch0000008?line=1'>2</a>\u001b[0m nums2\u001b[39m=\u001b[39m[\u001b[39m2\u001b[39m,\u001b[39m7\u001b[39m]\n\u001b[1;32m----> <a href='vscode-notebook-cell:/c%3A/Users/emmam/OneDrive/Desktop/code/submissions-detail/median_two_sorted_arrays.ipynb#ch0000008?line=3'>4</a>\u001b[0m nums1_curr\n",
      "\u001b[1;31mNameError\u001b[0m: name 'nums1_curr' is not defined"
     ]
    }
   ],
   "source": [
    "nums1=[1,3,5]\n",
    "nums2=[2,7,250,300,999,1024,4096,4097,4098,4099]\n",
    "\n",
    "nums1_curr=0\n",
    "nums2_curr=0\n"
   ]
  },
  {
   "cell_type": "code",
   "execution_count": null,
   "metadata": {},
   "outputs": [],
   "source": [
    "from typing import List\n",
    "class Solution:\n",
    "    def findMedianSortedArrays(self, nums1: List[int], nums2: List[int]) -> float:\n",
    "        def midpoints_of_list(l:List[int])->tuple(int,int):\n",
    "            len_l = len(l)\n",
    "            if len_l <1:\n",
    "                return(None)\n",
    "            if len_l % 2 == 0:\n",
    "                ixs = ((len(l)-1)//2, len(l)//2)\n",
    "                # m = (l[ixs[0]]+l[ixs[1]])/2\n",
    "            else:\n",
    "                ix = l[len(l)//2]\\\n",
    "\n",
    "            return(m)"
   ]
  },
  {
   "cell_type": "code",
   "execution_count": 34,
   "metadata": {},
   "outputs": [
    {
     "name": "stdout",
     "output_type": "stream",
     "text": [
      "3.25\n"
     ]
    }
   ],
   "source": [
    "from typing import List\n",
    "class Solution:\n",
    "    def findMedianSortedArrays(self, nums1: List[int], nums2: List[int]) -> float:\n",
    "\n",
    "        def get_median_of_list(l:List[int])->float:\n",
    "            len_l = len(l)\n",
    "            if len_l <1:\n",
    "                return(None)\n",
    "            if len_l % 2 == 0:\n",
    "                ixs = ((len(l)-1)//2, len(l)//2)\n",
    "                m = (l[ixs[0]]+l[ixs[1]])/2\n",
    "            else:\n",
    "                m = l[len(l)//2]\n",
    "            return(m)\n",
    "        # get_median_of_even_list = lambda l : ((len(l)-1)//2, len(l)//2)/2\n",
    "        # get_median_of_odd_list = lambda l: l[len(l)//2]\n",
    "        med_1 = get_median_of_list(nums1)\n",
    "        med_2 = get_median_of_list(nums2)\n",
    "        if all([\n",
    "            med_1 == None,\n",
    "            med_2 == None\n",
    "        ]):\n",
    "            return(None)\n",
    "        elif med_1 == None:\n",
    "            return(med_2)\n",
    "        elif med_2 == None:\n",
    "            return med_1\n",
    "        m = get_median_of_list([med_1,med_2])\n",
    "        return(m)\n",
    "\n",
    "s=Solution()\n",
    "print(s.findMedianSortedArrays(nums1,nums2))"
   ]
  },
  {
   "cell_type": "code",
   "execution_count": 26,
   "metadata": {},
   "outputs": [
    {
     "name": "stdout",
     "output_type": "stream",
     "text": [
      "get_median([1, 2]:1.5)\n",
      "get_median([3, 4]:3.5)\n",
      "1.5\n"
     ]
    }
   ],
   "source": [
    "nums1=[1,2]\n",
    "nums2=[3,4]\n",
    "s=Solution()\n",
    "print(s.findMedianSortedArrays(nums1,nums2))"
   ]
  },
  {
   "cell_type": "code",
   "execution_count": 1,
   "metadata": {},
   "outputs": [
    {
     "ename": "SyntaxError",
     "evalue": "invalid syntax (2782058753.py, line 10)",
     "output_type": "error",
     "traceback": [
      "\u001b[1;36m  Input \u001b[1;32mIn [1]\u001b[1;36m\u001b[0m\n\u001b[1;33m    if m %% 2 == 0:\u001b[0m\n\u001b[1;37m          ^\u001b[0m\n\u001b[1;31mSyntaxError\u001b[0m\u001b[1;31m:\u001b[0m invalid syntax\n"
     ]
    }
   ],
   "source": [
    "from typing import List\n",
    "class Solution:\n",
    "    def findMedianSortedArrays(self, nums1: List[int], nums2: List[int]) -> float:\n",
    "        i=0\n",
    "        while any[i < (len(nums1) -1),\n",
    "                  i < (len(nums2) -1)\n",
    "                  # wwrong condition\n",
    "                 ]:\n",
    "            \n",
    "            # for each list\n",
    "            if m %% 2 == 0: \n",
    "                #even\n",
    "                L = (len(nums1)-1)//2\n",
    "                R = len(nums1)//2\n",
    "                print(f\"L:{L} , R:{R}\")\n",
    "                pass\n",
    "                # pick two middle indecies and get their vals midpoint as median\n",
    "            else:\n",
    "                mid=\n",
    "                print()\n",
    "                #odd\n",
    "                # pick the middle index as median\n"
   ]
  },
  {
   "cell_type": "code",
   "execution_count": 6,
   "metadata": {},
   "outputs": [
    {
     "data": {
      "text/plain": [
       "2"
      ]
     },
     "execution_count": 6,
     "metadata": {},
     "output_type": "execute_result"
    }
   ],
   "source": [
    "[5,10,15,20,25]\n",
    "5//2"
   ]
  },
  {
   "cell_type": "code",
   "execution_count": 2,
   "metadata": {},
   "outputs": [
    {
     "data": {
      "text/plain": [
       "'x:3, y:4 \\n20   25'"
      ]
     },
     "execution_count": 2,
     "metadata": {},
     "output_type": "execute_result"
    }
   ],
   "source": [
    "l=[5,10,15,20,25,30,35,40]\n",
    "# even case\n",
    "x,y = (len(l)-1)//2, len(l)//2\n",
    "f\"x:{x}, y:{y} \\n{l[x]}   {l[y]}\""
   ]
  },
  {
   "cell_type": "code",
   "execution_count": 3,
   "metadata": {},
   "outputs": [
    {
     "data": {
      "text/plain": [
       "3"
      ]
     },
     "execution_count": 3,
     "metadata": {},
     "output_type": "execute_result"
    }
   ],
   "source": [
    "l=[10,15,20,25,30,35,40]\n",
    "# odd case\n",
    "len(l)//2\n",
    "# m = \n",
    "# x,y = (len(l)-1)//2, len(l)//2\n",
    "\n",
    "# f\"x:{x}, y:{y} \\n{l[x]}   {l[y]}\""
   ]
  },
  {
   "cell_type": "code",
   "execution_count": 5,
   "metadata": {},
   "outputs": [
    {
     "name": "stdout",
     "output_type": "stream",
     "text": [
      "4\n",
      "30\n"
     ]
    }
   ],
   "source": [
    "l=[10,15,20,25,30,35,40,50,60]\n",
    "# odd case\n",
    "print(len(l)//2)\n",
    "print(l[len(l)//2])\n"
   ]
  },
  {
   "cell_type": "code",
   "execution_count": null,
   "metadata": {},
   "outputs": [],
   "source": []
  }
 ],
 "metadata": {
  "kernelspec": {
   "display_name": "Python 3.8.10 ('hhhb_venv_win')",
   "language": "python",
   "name": "python3"
  },
  "language_info": {
   "codemirror_mode": {
    "name": "ipython",
    "version": 3
   },
   "file_extension": ".py",
   "mimetype": "text/x-python",
   "name": "python",
   "nbconvert_exporter": "python",
   "pygments_lexer": "ipython3",
   "version": "3.8.10"
  },
  "orig_nbformat": 4,
  "vscode": {
   "interpreter": {
    "hash": "bb930cfed33480b59831dbd05559a9f44dfdec9e4749380c17fcb8534023418d"
   }
  }
 },
 "nbformat": 4,
 "nbformat_minor": 2
}
