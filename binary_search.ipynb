{
 "cells": [
  {
   "cell_type": "code",
   "execution_count": 1,
   "metadata": {},
   "outputs": [],
   "source": [
    "from typing import List\n",
    "\"\"\"\n",
    "Runtime: 264 ms, faster than 81.59% of Python3 online submissions for Binary Search.\n",
    "Memory Usage: 15.7 MB, less than 21.96% of Python3 online submissions for Binary Search.\n",
    "\"\"\"\n",
    "class Solution:\n",
    "    def r(self, nums: List[int], target: int):\n",
    "        # if only 1 element, exit\n",
    "        if len(nums)==1:\n",
    "            if nums[0][0]!=target:\n",
    "                return(-1)\n",
    "            return(nums[0][1])\n",
    "        \n",
    "        # choose middle\n",
    "        mid = len(nums)//2\n",
    "        # print(nums[mid][0])\n",
    "        \n",
    "        if nums[mid][0]==target:\n",
    "            return(nums[mid][1])\n",
    "        # if middle is greater, new list\n",
    "        if nums[mid][0] > target:\n",
    "            nums=nums[:mid]\n",
    "            return(self.r(nums, target))\n",
    "            \n",
    "        if nums[mid][0] < target:\n",
    "            nums=nums[mid:]\n",
    "            return(self.r(nums, target))\n",
    "        return(self.r(nums, target))\n",
    "    def search(self, nums: List[int], target: int) -> int:\n",
    "        nums = [(nums[i], i) for i in range(len(nums))]\n",
    "        return(self.r(nums, target))"
   ]
  },
  {
   "cell_type": "code",
   "execution_count": 2,
   "metadata": {},
   "outputs": [
    {
     "data": {
      "text/plain": [
       "5"
      ]
     },
     "execution_count": 2,
     "metadata": {},
     "output_type": "execute_result"
    }
   ],
   "source": [
    "s0 = Solution()\n",
    "c0l=[-1,0,3,5,9,12,13,15,99]\n",
    "c0t=12\n",
    "\n",
    "s0.search(c0l, c0t)"
   ]
  },
  {
   "cell_type": "code",
   "execution_count": 3,
   "metadata": {},
   "outputs": [
    {
     "data": {
      "text/plain": [
       "9"
      ]
     },
     "execution_count": 3,
     "metadata": {},
     "output_type": "execute_result"
    }
   ],
   "source": [
    "#nums[mid][0]<target\n",
    "[(-1, 0), (0, 1), (3, 2), (5, 3), (9, 4), (12, 5), (13, 6), (15, 7)][4][0]"
   ]
  }
 ],
 "metadata": {
  "kernelspec": {
   "display_name": "Python 3.8.10 ('hhhb_venv_win')",
   "language": "python",
   "name": "python3"
  },
  "language_info": {
   "codemirror_mode": {
    "name": "ipython",
    "version": 3
   },
   "file_extension": ".py",
   "mimetype": "text/x-python",
   "name": "python",
   "nbconvert_exporter": "python",
   "pygments_lexer": "ipython3",
   "version": "3.8.10"
  },
  "orig_nbformat": 4,
  "vscode": {
   "interpreter": {
    "hash": "bb930cfed33480b59831dbd05559a9f44dfdec9e4749380c17fcb8534023418d"
   }
  }
 },
 "nbformat": 4,
 "nbformat_minor": 2
}
