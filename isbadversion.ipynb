{
 "cells": [
  {
   "cell_type": "code",
   "execution_count": null,
   "metadata": {},
   "outputs": [],
   "source": [
    "\n",
    "class Solution:       \n",
    "    def firstBadVersion(self, n: int) -> int:\n",
    "        t = n//2\n",
    "        while True:\n",
    "            if isBadVersion(t):\n",
    "                # go lower\n",
    "                n = t\n",
    "            else:\n",
    "                # go higher\n",
    "                t = (n+t)//2\n",
    "                if t<1:\n",
    "                    t=1\n",
    "            if t==n:\n",
    "                return(n)\n",
    "        \n",
    "\n",
    "        # this is a binary search problem        \n",
    "        # get middle\n",
    "        # check if middle is bad\n",
    "        # If middle is bad, go lower\n",
    "        # else go higher\n",
    "        # recurse\n",
    "        "
   ]
  },
  {
   "cell_type": "code",
   "execution_count": null,
   "metadata": {},
   "outputs": [],
   "source": []
  }
 ],
 "metadata": {
  "kernelspec": {
   "display_name": "Python 3.8.10 ('hhhb_venv_win')",
   "language": "python",
   "name": "python3"
  },
  "language_info": {
   "name": "python",
   "version": "3.8.10"
  },
  "orig_nbformat": 4,
  "vscode": {
   "interpreter": {
    "hash": "bb930cfed33480b59831dbd05559a9f44dfdec9e4749380c17fcb8534023418d"
   }
  }
 },
 "nbformat": 4,
 "nbformat_minor": 2
}
