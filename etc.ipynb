{
 "cells": [
  {
   "cell_type": "code",
   "execution_count": 2,
   "metadata": {},
   "outputs": [
    {
     "name": "stdout",
     "output_type": "stream",
     "text": [
      "(2, [1, 2])\n"
     ]
    }
   ],
   "source": [
    "from typing import List\n",
    "\n",
    "nums=[1,1,2]\n",
    "class Solution:\n",
    "    def removeDuplicates(self, nums: List[int]) -> int:\n",
    "        last_n=None\n",
    "        moved_counter=0\n",
    "        # k=0\n",
    "        i=0\n",
    "        while i < len(nums):\n",
    "            #print(f\"i:{i}, last_n:{last_n}, moved_counter:{moved_counter}\")\n",
    "            if nums[i]==last_n:\n",
    "                nums.pop(i)\n",
    "                #nums=nums[:i]+nums[i+1:]+[nums[i]]\n",
    "                moved_counter+=1\n",
    "                # if len(nums)//2 < moved_counter:\n",
    "                #     break\n",
    "            else:\n",
    "                i+=1\n",
    "                try:\n",
    "                    last_n=int(nums[i])\n",
    "                except IndexError as e:\n",
    "                    pass\n",
    "        return(i, nums)\n",
    "\n",
    "S=Solution()\n",
    "a=S.removeDuplicates(nums)\n",
    "print(a)"
   ]
  },
  {
   "cell_type": "code",
   "execution_count": 3,
   "metadata": {},
   "outputs": [
    {
     "name": "stdout",
     "output_type": "stream",
     "text": [
      "(2, [1, 2])\n"
     ]
    }
   ],
   "source": [
    "from typing import List\n",
    "# nums=[0,0,1,1,1,2,2,3,3,4]\n",
    "# nums=[0,0,1,1,1,2,2,3,3,4]\n",
    "nums=[1,1,2]\n",
    "class Solution:\n",
    "    def removeDuplicates(self, nums: List[int]) -> int:\n",
    "        last_n=None\n",
    "        moved_counter=0\n",
    "        # k=0\n",
    "        i=0\n",
    "        while i < len(nums):\n",
    "            #print(f\"i:{i}, last_n:{last_n}, moved_counter:{moved_counter}\")\n",
    "            if nums[i]==last_n:\n",
    "                nums.pop(i)\n",
    "                #nums=nums[:i]+nums[i+1:]+[nums[i]]\n",
    "                moved_counter+=1\n",
    "                # if len(nums)//2 < moved_counter:\n",
    "                #     break\n",
    "            else:\n",
    "                i+=1\n",
    "                try:\n",
    "                    last_n=int(nums[i])\n",
    "                except IndexError as e:\n",
    "                    pass\n",
    "        return(i, nums)\n",
    "S=Solution()\n",
    "a=S.removeDuplicates(nums)\n",
    "print(a)"
   ]
  },
  {
   "cell_type": "code",
   "execution_count": 7,
   "metadata": {},
   "outputs": [
    {
     "ename": "SyntaxError",
     "evalue": "invalid syntax (355528090.py, line 3)",
     "output_type": "error",
     "traceback": [
      "\u001b[1;36m  Input \u001b[1;32mIn [7]\u001b[1;36m\u001b[0m\n\u001b[1;33m    open_braces_counter={'():'0,\u001b[0m\n\u001b[1;37m                              ^\u001b[0m\n\u001b[1;31mSyntaxError\u001b[0m\u001b[1;31m:\u001b[0m invalid syntax\n"
     ]
    }
   ],
   "source": [
    "class Solution:    \n",
    "    def isValid(self, s: str) -> bool:\n",
    "        open_braces_counter={'():'0,\n",
    "                             '[]':0,\n",
    "                             '{}':0,\n",
    "                             'inner'=None\n",
    "                            }\n",
    "        case_dict = {'(' : ('()',  1), \n",
    "                     ')' : ('()', -1), \n",
    "                     '[' : ('[]',  1), \n",
    "                     ']' : ('[]', -1), \n",
    "                     '{' : ('{}',  1), \n",
    "                     '}' : ('{}', -1), \n",
    "                     }\n",
    "\n",
    "        for i in len(s):\n",
    "            if any([v<0 for v in open_braces_counter.values()]):\n",
    "                return(False)\n",
    "\n",
    "\n",
    "            match s[i]:\n",
    "                case '(':\n",
    "                    open_braces_counter('()')+=1\n",
    "                case ')':\n",
    "                    open_braces_counter('()')-=1"
   ]
  },
  {
   "cell_type": "code",
   "execution_count": null,
   "metadata": {},
   "outputs": [
    {
     "data": {
      "text/plain": [
       "2"
      ]
     },
     "execution_count": 28,
     "metadata": {},
     "output_type": "execute_result"
    }
   ],
   "source": [
    "5//2"
   ]
  },
  {
   "cell_type": "code",
   "execution_count": null,
   "metadata": {},
   "outputs": [],
   "source": [
    "x=2,147,483,648\n",
    "x = 2**31"
   ]
  },
  {
   "cell_type": "code",
   "execution_count": null,
   "metadata": {},
   "outputs": [
    {
     "data": {
      "text/plain": [
       "10"
      ]
     },
     "execution_count": 2,
     "metadata": {},
     "output_type": "execute_result"
    }
   ],
   "source": [
    "10**1"
   ]
  },
  {
   "cell_type": "code",
   "execution_count": null,
   "metadata": {},
   "outputs": [
    {
     "name": "stdout",
     "output_type": "stream",
     "text": [
      "0 2147483648 0\n",
      "1 214748364 8\n",
      "2 21474836 48\n",
      "3 2147483 648\n",
      "4 214748 3648\n",
      "5 21474 83648\n",
      "6 2147 483648\n",
      "7 214 7483648\n",
      "8 21 47483648\n",
      "9 2 147483648\n",
      "10 0 2147483648\n"
     ]
    }
   ],
   "source": [
    "# from math import ceil\n",
    "l=list()\n",
    "for pw in range(0,11):\n",
    "    # l.append( x// 10**pw)\n",
    "    print( pw, x//10**pw,  (x%10**pw))\n",
    "# l"
   ]
  },
  {
   "cell_type": "code",
   "execution_count": null,
   "metadata": {},
   "outputs": [
    {
     "data": {
      "text/plain": [
       "1"
      ]
     },
     "execution_count": 15,
     "metadata": {},
     "output_type": "execute_result"
    }
   ],
   "source": [
    "10**0"
   ]
  },
  {
   "cell_type": "code",
   "execution_count": null,
   "metadata": {},
   "outputs": [
    {
     "data": {
      "text/plain": [
       "1000000000"
      ]
     },
     "execution_count": 4,
     "metadata": {},
     "output_type": "execute_result"
    }
   ],
   "source": [
    "1*10**9"
   ]
  },
  {
   "cell_type": "code",
   "execution_count": null,
   "metadata": {},
   "outputs": [],
   "source": [
    "1,000,000,000"
   ]
  }
 ],
 "metadata": {
  "kernelspec": {
   "display_name": "Python 3.8.10 ('hhhb_venv_win')",
   "language": "python",
   "name": "python3"
  },
  "language_info": {
   "codemirror_mode": {
    "name": "ipython",
    "version": 3
   },
   "file_extension": ".py",
   "mimetype": "text/x-python",
   "name": "python",
   "nbconvert_exporter": "python",
   "pygments_lexer": "ipython3",
   "version": "3.8.10"
  },
  "orig_nbformat": 4,
  "vscode": {
   "interpreter": {
    "hash": "bb930cfed33480b59831dbd05559a9f44dfdec9e4749380c17fcb8534023418d"
   }
  }
 },
 "nbformat": 4,
 "nbformat_minor": 2
}
