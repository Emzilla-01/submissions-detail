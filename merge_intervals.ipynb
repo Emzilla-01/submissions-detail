{
 "cells": [
  {
   "cell_type": "code",
   "execution_count": null,
   "metadata": {},
   "outputs": [],
   "source": [
    "\"\"\"\n",
    "Runtime: 168 ms, faster than 75.99% of Python3 online submissions for Merge Intervals.\n",
    "Memory Usage: 18.1 MB, less than 83.96% of Python3 online submissions for Merge Intervals.\n",
    "\"\"\"\n",
    "class Solution:\n",
    "    def merge(self, intervals: List[List[int]]) -> List[List[int]]:\n",
    "        intervals=sorted(intervals, key=lambda l: min(l)) # sort the input\n",
    "        o=list([intervals[0]]) # initialize output w first interval\n",
    "        curr_o=0 # init output pointer\n",
    "        curr_i=1 # init input pointer\n",
    "        # outermost iteration condition -> curr_i < len(intervals)\n",
    "        while curr_i<len(intervals):\n",
    "            # two conditions min/max are faster than range or set intersection\n",
    "            if max(o[curr_o])>=min(intervals[curr_i]):\n",
    "                \n",
    "                # assign current interval based on min/max of curr output and next input\n",
    "                o[curr_o] = [min(o[curr_o] + intervals[curr_i]), max(o[curr_o] + intervals[curr_i])]\n",
    "            else:    \n",
    "            # no overlap\n",
    "                #append curr_i into o\n",
    "                o.append(intervals[curr_i])\n",
    "                # increment curr_o\n",
    "                curr_o+=1\n",
    "            #increment curr_i at end of N, outside any conditions\n",
    "            curr_i+=1\n",
    "        return(o)\n"
   ]
  }
 ],
 "metadata": {
  "kernelspec": {
   "display_name": "Python 3.8.10 ('hhhb_venv_win')",
   "language": "python",
   "name": "python3"
  },
  "language_info": {
   "name": "python",
   "version": "3.8.10"
  },
  "orig_nbformat": 4,
  "vscode": {
   "interpreter": {
    "hash": "bb930cfed33480b59831dbd05559a9f44dfdec9e4749380c17fcb8534023418d"
   }
  }
 },
 "nbformat": 4,
 "nbformat_minor": 2
}
