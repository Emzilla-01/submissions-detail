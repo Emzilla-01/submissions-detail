{
 "cells": [
  {
   "cell_type": "code",
   "execution_count": 1,
   "metadata": {},
   "outputs": [],
   "source": [
    "import re\n",
    "from functools import reduce"
   ]
  },
  {
   "cell_type": "code",
   "execution_count": 2,
   "metadata": {},
   "outputs": [],
   "source": [
    "pass_cases = [\"2\", \"0089\", \"-0.1\", \"+3.14\", \"4.\", \"-.9\", \"2e10\", \"-90E3\", \"3e+7\", \"+6e-1\", \"53.5e93\", \"-123.456e789\"]\n",
    "fail_cases = [\"abc\", \"1a\", \"1e\", \"e3\", \"99e2.5\", \"--6\", \"-+3\", \"95a54e53\"]"
   ]
  },
  {
   "cell_type": "code",
   "execution_count": 3,
   "metadata": {},
   "outputs": [],
   "source": [
    "\n",
    "my_regexpr=r\"^[+-]{0,1}\\d*\\.*\\d*(?!\\d*\\.)([Ee]{0,1}[+-]{0,1}(?=\\d+)\\d+(?!=\\.))*\""
   ]
  },
  {
   "cell_type": "code",
   "execution_count": 4,
   "metadata": {},
   "outputs": [],
   "source": [
    "r = re.compile(my_regexpr)"
   ]
  },
  {
   "cell_type": "code",
   "execution_count": 5,
   "metadata": {},
   "outputs": [],
   "source": [
    "x = r.match(pass_cases[0])"
   ]
  },
  {
   "cell_type": "code",
   "execution_count": 6,
   "metadata": {},
   "outputs": [
    {
     "data": {
      "text/plain": [
       "1"
      ]
     },
     "execution_count": 6,
     "metadata": {},
     "output_type": "execute_result"
    }
   ],
   "source": [
    "x.string.__len__()"
   ]
  },
  {
   "cell_type": "code",
   "execution_count": 7,
   "metadata": {},
   "outputs": [],
   "source": [
    "y=r.match(\"f00\")"
   ]
  },
  {
   "cell_type": "code",
   "execution_count": 8,
   "metadata": {},
   "outputs": [
    {
     "data": {
      "text/plain": [
       "<re.Match object; span=(0, 0), match=''>"
      ]
     },
     "execution_count": 8,
     "metadata": {},
     "output_type": "execute_result"
    }
   ],
   "source": [
    "y"
   ]
  },
  {
   "cell_type": "code",
   "execution_count": 9,
   "metadata": {},
   "outputs": [],
   "source": [
    "z = r.search(\"f00\")"
   ]
  },
  {
   "cell_type": "code",
   "execution_count": 10,
   "metadata": {},
   "outputs": [],
   "source": [
    "x,y,z =r.search(\"-123.456e789\"), r.search(\"..2\"), r.search(\"0\")"
   ]
  },
  {
   "cell_type": "code",
   "execution_count": 11,
   "metadata": {},
   "outputs": [
    {
     "data": {
      "text/plain": [
       "((0, 12), (0, 3), (0, 1))"
      ]
     },
     "execution_count": 11,
     "metadata": {},
     "output_type": "execute_result"
    }
   ],
   "source": [
    "x.span(), y.span(), z.span()"
   ]
  },
  {
   "cell_type": "code",
   "execution_count": 12,
   "metadata": {},
   "outputs": [
    {
     "data": {
      "text/plain": [
       "<function re.search(pattern, string, flags=0)>"
      ]
     },
     "execution_count": 12,
     "metadata": {},
     "output_type": "execute_result"
    }
   ],
   "source": [
    "re.search"
   ]
  },
  {
   "cell_type": "code",
   "execution_count": 13,
   "metadata": {},
   "outputs": [
    {
     "name": "stdout",
     "output_type": "stream",
     "text": [
      "Help on built-in function span:\n",
      "\n",
      "span(group=0, /) method of re.Match instance\n",
      "    For match object m, return the 2-tuple (m.start(group), m.end(group)).\n",
      "\n"
     ]
    },
    {
     "data": {
      "text/plain": [
       "(None, <function Match.span(group=0, /)>)"
      ]
     },
     "execution_count": 13,
     "metadata": {},
     "output_type": "execute_result"
    }
   ],
   "source": [
    "help(y.span), y.span"
   ]
  },
  {
   "cell_type": "code",
   "execution_count": 14,
   "metadata": {},
   "outputs": [
    {
     "data": {
      "text/plain": [
       "((0, 12), 12, (0, 3), 3, (0, 1), 1)"
      ]
     },
     "execution_count": 14,
     "metadata": {},
     "output_type": "execute_result"
    }
   ],
   "source": [
    "x.span(), x.string.__len__(), y.span(), y.string.__len__(), z.span(), z.string.__len__()"
   ]
  },
  {
   "cell_type": "code",
   "execution_count": 15,
   "metadata": {},
   "outputs": [
    {
     "data": {
      "text/plain": [
       "((0, 1), 1)"
      ]
     },
     "execution_count": 15,
     "metadata": {},
     "output_type": "execute_result"
    }
   ],
   "source": [
    "z.span(), z.string.__len__()"
   ]
  },
  {
   "cell_type": "code",
   "execution_count": 16,
   "metadata": {},
   "outputs": [],
   "source": [
    "cond = x.span()[1] == x.string.__len__()"
   ]
  },
  {
   "cell_type": "code",
   "execution_count": 17,
   "metadata": {},
   "outputs": [
    {
     "data": {
      "text/plain": [
       "4"
      ]
     },
     "execution_count": 17,
     "metadata": {},
     "output_type": "execute_result"
    }
   ],
   "source": [
    "\"....\".count(\".\")"
   ]
  },
  {
   "cell_type": "code",
   "execution_count": 18,
   "metadata": {},
   "outputs": [
    {
     "data": {
      "text/plain": [
       "'^([+-]{0,1})(\\\\d+\\\\.*|\\\\.*\\\\d+)(?!\\\\.)([Ee]{0,1}(?=[+-]{,1}\\\\d+)[+-]{0,1}(?<=[eE])(?=\\\\d+)\\\\d+(?!=\\\\.)){0,1}'"
      ]
     },
     "execution_count": 18,
     "metadata": {},
     "output_type": "execute_result"
    }
   ],
   "source": [
    "r\"^([+-]{0,1})(\\d+\\.*|\\.*\\d+)(?!\\.)([Ee]{0,1}(?=[+-]{,1}\\d+)[+-]{0,1}(?<=[eE])(?=\\d+)\\d+(?!=\\.)){0,1}\""
   ]
  },
  {
   "cell_type": "code",
   "execution_count": 19,
   "metadata": {},
   "outputs": [
    {
     "data": {
      "text/plain": [
       "\"\\n\\n# may start with +/-\\n^[+-]{0,1}\\n# digits+ possible dot OR possible dot digits+\\n(\\\\d+\\\\.*|\\\\.*\\\\d+)\\n# digits* NOT followed by '.'\\n\\\\d*(?!\\\\d*\\\\.)\\n# possible eE, possible +-\\n([Ee]{0,1})([+-]{0,1}(=?[eE]))(?=\\\\d+)\\\\d+(?!=\\\\.)){0,1}\\n# Pass these cases\\n46.e3\\n2\\n0089\\n-0.1\\n+3.14\\n4.\\n-.9\\n2e10\\n-90E3\\n3e+7\\n+6e-1\\n53.5e93\\n-123.456e789\\n# Fail these cases\\n6+1\\n..2\\n1.2.3\\nabc\\n.\\n1a\\n1e\\ne3\\n99e2.5\\n--6\\n-+3\\n95a54e53\\n\\n\""
      ]
     },
     "execution_count": 19,
     "metadata": {},
     "output_type": "execute_result"
    }
   ],
   "source": [
    "\"\"\"\n",
    "\n",
    "# may start with +/-\n",
    "^[+-]{0,1}\n",
    "# digits+ possible dot OR possible dot digits+\n",
    "(\\d+\\.*|\\.*\\d+)\n",
    "# digits* NOT followed by '.'\n",
    "\\d*(?!\\d*\\.)\n",
    "# possible eE, possible +-\n",
    "([Ee]{0,1})([+-]{0,1}(=?[eE]))(?=\\d+)\\d+(?!=\\.)){0,1}\n",
    "# Pass these cases\n",
    "46.e3\n",
    "2\n",
    "0089\n",
    "-0.1\n",
    "+3.14\n",
    "4.\n",
    "-.9\n",
    "2e10\n",
    "-90E3\n",
    "3e+7\n",
    "+6e-1\n",
    "53.5e93\n",
    "-123.456e789\n",
    "# Fail these cases\n",
    "6+1\n",
    "..2\n",
    "1.2.3\n",
    "abc\n",
    ".\n",
    "1a\n",
    "1e\n",
    "e3\n",
    "99e2.5\n",
    "--6\n",
    "-+3\n",
    "95a54e53\n",
    "\n",
    "\"\"\""
   ]
  }
 ],
 "metadata": {
  "kernelspec": {
   "display_name": "Python 3.8.10 ('hhhb_venv_win')",
   "language": "python",
   "name": "python3"
  },
  "language_info": {
   "codemirror_mode": {
    "name": "ipython",
    "version": 3
   },
   "file_extension": ".py",
   "mimetype": "text/x-python",
   "name": "python",
   "nbconvert_exporter": "python",
   "pygments_lexer": "ipython3",
   "version": "3.8.10"
  },
  "orig_nbformat": 4,
  "vscode": {
   "interpreter": {
    "hash": "bb930cfed33480b59831dbd05559a9f44dfdec9e4749380c17fcb8534023418d"
   }
  }
 },
 "nbformat": 4,
 "nbformat_minor": 2
}
