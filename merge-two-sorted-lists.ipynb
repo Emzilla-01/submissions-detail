{
 "cells": [
  {
   "cell_type": "code",
   "execution_count": null,
   "metadata": {},
   "outputs": [],
   "source": [
    "\"\"\"Runtime: 70 ms, faster than 23.99% of Python3 online submissions for Merge Two Sorted Lists.\n",
    "Memory Usage: 13.9 MB, less than 32.33% of Python3 online submissions for Merge Two Sorted Lists.\"\"\"\n",
    "# Definition for singly-linked list.\n",
    "# class ListNode:\n",
    "#     def __init__(self, val=0, next=None):\n",
    "#         self.val = val\n",
    "#         self.next = next\n",
    "class Solution:\n",
    "    def mergeTwoLists(self, list1: Optional[ListNode], list2: Optional[ListNode]) -> Optional[ListNode]:        \n",
    "        if list1 == None:\n",
    "            return(list2)\n",
    "        elif list2 == None:\n",
    "            return(list1)\n",
    "        elif list1.val < list2.val:\n",
    "            list1.next=self.mergeTwoLists(list1.next, list2)\n",
    "            return(list1)\n",
    "        else:\n",
    "            list2.next=self.mergeTwoLists(list1, list2.next)\n",
    "            return(list2)"
   ]
  },
  {
   "cell_type": "code",
   "execution_count": null,
   "metadata": {},
   "outputs": [],
   "source": [
    "from typing import List\n",
    "# Definition for singly-linked list.\n",
    "# class ListNode:\n",
    "#     def __init__(self, val=0, next=None):\n",
    "#         self.val = val\n",
    "#         self.next = next\n",
    "class Solution:\n",
    "    def mergeTwoLists(self, list1: Optional[ListNode], list2: Optional[ListNode]) -> Optional[ListNode]:\n",
    "        def append_next(ln:ListNode,l:List):\n",
    "            l.append(ln.val)\n",
    "            return(ln.next)\n",
    "        l=list()\n",
    "        # nodes=list()\n",
    "        \n",
    "\n",
    "        while any([list1.next, list2.next]):\n",
    "            if not list1.next:\n",
    "                list2=append_next(list2,l)\n",
    "                continue\n",
    "            if not list2.next:\n",
    "                list1=append_next(list1,l)\n",
    "                continue\n",
    "            \n",
    "            if list1.val<list2.val:\n",
    "                l.append(list1.val)\n",
    "                list1 = list1.next\n",
    "                continue\n",
    "            if list1.val>list2.val:\n",
    "                l.append(list2.val)\n",
    "                list2 = list2.next\n",
    "                continue\n",
    "                \n",
    "            else:\n",
    "                l.append(list2.val)\n",
    "                list2 = list2.next\n",
    "                \n",
    "        if len(l)==0:\n",
    "            return(0)\n",
    "        for i in range(len(l)-1,-1,-1):\n",
    "            if i+1 == len(l):\n",
    "                last = ListNode(val=l[i], next=None)\n",
    "                if len(l)==1:\n",
    "                    return(last)\n",
    "                continue\n",
    "            this=ListNode(val=l[i], next = last)\n",
    "            last=this\n",
    "        return(this)\n",
    "            "
   ]
  }
 ],
 "metadata": {
  "kernelspec": {
   "display_name": "Python 3.8.10 ('hhhb_venv_win')",
   "language": "python",
   "name": "python3"
  },
  "language_info": {
   "name": "python",
   "version": "3.8.10"
  },
  "orig_nbformat": 4,
  "vscode": {
   "interpreter": {
    "hash": "bb930cfed33480b59831dbd05559a9f44dfdec9e4749380c17fcb8534023418d"
   }
  }
 },
 "nbformat": 4,
 "nbformat_minor": 2
}
