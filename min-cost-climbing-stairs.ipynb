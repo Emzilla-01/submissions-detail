{
 "cells": [
  {
   "cell_type": "code",
   "execution_count": null,
   "metadata": {},
   "outputs": [],
   "source": [
    "from typing import List\n",
    "'''\n",
    "Runtime: 79 ms, faster than 66.49% of Python3 online submissions for Min Cost Climbing Stairs.\n",
    "Memory Usage: 14.1 MB, less than 23.97% of Python3 online submissions for Min Cost Climbing Stairs.\n",
    "'''\n",
    "class Solution:\n",
    "    def minCostClimbingStairs(self, cost: List[int]) -> int:\n",
    "        fc_dict = dict() # keyed by index, valued by final cost\n",
    "        for ix, val in list(enumerate(cost))[::-1]:\n",
    "            if not fc_dict.get(ix+2): # penultimate ix of list\n",
    "                fc_dict.setdefault(ix, val)\n",
    "                continue\n",
    "            fc_dict.setdefault(ix, min([val+fc_dict[ix+1], val+fc_dict[ix+2]]))\n",
    "        first_choice = sorted([fc_dict.get(i) for i in [0,1]])[0]\n",
    "        return(first_choice)"
   ]
  },
  {
   "cell_type": "code",
   "execution_count": null,
   "metadata": {},
   "outputs": [],
   "source": [
    "from typing import List\n",
    "'''\n",
    "Runtime: 97 ms, faster than 41.85% of Python3 online submissions for Min Cost Climbing Stairs.\n",
    "Memory Usage: 14.1 MB, less than 44.40% of Python3 online submissions for Min Cost Climbing Stairs.'''\n",
    "class Solution:\n",
    "    def minCostClimbingStairs(self, cost: List[int]) -> int:\n",
    "        fc_dict = dict() # keyed by index, valued by final cost\n",
    "\n",
    "        for ix, val in list(enumerate(cost))[::-1]:\n",
    "            # print(f\"ix: {ix}, val:{val}\")\n",
    "            if not fc_dict.get(ix+1): # final ix of list\n",
    "                fc_dict.setdefault(ix, val) \n",
    "                continue\n",
    "            if not fc_dict.get(ix+2): # penultimate ix of list\n",
    "                fc_dict.setdefault(ix, val)\n",
    "                continue\n",
    "            fc_dict.setdefault(ix, min([val+fc_dict[ix+1], val+fc_dict[ix+2]]))\n",
    "    \n",
    "        first_choice = sorted([(i, fc_dict.get(i)) for i in [0,1]], key=lambda t: t[1])[0]\n",
    "    \n",
    "        return(first_choice[1])"
   ]
  },
  {
   "cell_type": "code",
   "execution_count": null,
   "metadata": {},
   "outputs": [],
   "source": [
    "'''\n",
    "Runtime: 117 ms, faster than 17.57% of Python3 online submissions for Min Cost Climbing Stairs.\n",
    "Memory Usage: 14.1 MB, less than 44.40% of Python3 online submissions for Min Cost Climbing Stairs. \n",
    "'''\n",
    "class Solution:\n",
    "    def minCostClimbingStairs(self, cost: List[int]) -> int:\n",
    "        fc_dict = dict() # keyed by index, valued by final cost\n",
    "        len_cost = len(cost)\n",
    "        for ix, val in list(enumerate(cost))[::-1]:\n",
    "            if ix+2 < len_cost:\n",
    "                fc_dict.setdefault(ix, min([val+fc_dict[ix+1], val+fc_dict[ix+2]]))\n",
    "                continue\n",
    "            fc_dict.setdefault(ix, val)     \n",
    "        lowest_cost = min([fc_dict.get(i) for i in [0,1])\n",
    "        return(lowest_cost)"
   ]
  },
  {
   "cell_type": "code",
   "execution_count": null,
   "metadata": {},
   "outputs": [],
   "source": []
  }
 ],
 "metadata": {
  "kernelspec": {
   "display_name": "Python 3.8.10 ('hhhb_venv_win')",
   "language": "python",
   "name": "python3"
  },
  "language_info": {
   "codemirror_mode": {
    "name": "ipython",
    "version": 3
   },
   "file_extension": ".py",
   "mimetype": "text/x-python",
   "name": "python",
   "nbconvert_exporter": "python",
   "pygments_lexer": "ipython3",
   "version": "3.8.10"
  },
  "orig_nbformat": 4,
  "vscode": {
   "interpreter": {
    "hash": "bb930cfed33480b59831dbd05559a9f44dfdec9e4749380c17fcb8534023418d"
   }
  }
 },
 "nbformat": 4,
 "nbformat_minor": 2
}
